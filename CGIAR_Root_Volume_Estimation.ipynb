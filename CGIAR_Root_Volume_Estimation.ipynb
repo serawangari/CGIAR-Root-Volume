{
  "nbformat": 4,
  "nbformat_minor": 0,
  "metadata": {
    "colab": {
      "provenance": [],
      "gpuType": "T4"
    },
    "kernelspec": {
      "name": "python3",
      "display_name": "Python 3"
    },
    "language_info": {
      "name": "python"
    },
    "accelerator": "GPU"
  },
  "cells": [
    {
      "cell_type": "markdown",
      "source": [
        "## Setting up and Installing Dependencies"
      ],
      "metadata": {
        "id": "Y7tNU4mDGydw"
      }
    },
    {
      "cell_type": "code",
      "execution_count": 1,
      "metadata": {
        "colab": {
          "base_uri": "https://localhost:8080/"
        },
        "id": "HTYVxSXjFHmr",
        "outputId": "da7f8aab-8c42-404a-8f0d-8ad493324655"
      },
      "outputs": [
        {
          "output_type": "stream",
          "name": "stdout",
          "text": [
            "Requirement already satisfied: ultralytics in /usr/local/lib/python3.11/dist-packages (8.3.71)\n",
            "Requirement already satisfied: opencv-python-headless in /usr/local/lib/python3.11/dist-packages (4.11.0.86)\n",
            "Requirement already satisfied: pandas in /usr/local/lib/python3.11/dist-packages (2.2.2)\n",
            "Requirement already satisfied: numpy in /usr/local/lib/python3.11/dist-packages (1.26.4)\n",
            "Requirement already satisfied: scikit-learn in /usr/local/lib/python3.11/dist-packages (1.6.1)\n",
            "Requirement already satisfied: xgboost in /usr/local/lib/python3.11/dist-packages (2.1.3)\n",
            "Requirement already satisfied: matplotlib>=3.3.0 in /usr/local/lib/python3.11/dist-packages (from ultralytics) (3.10.0)\n",
            "Requirement already satisfied: opencv-python>=4.6.0 in /usr/local/lib/python3.11/dist-packages (from ultralytics) (4.10.0.84)\n",
            "Requirement already satisfied: pillow>=7.1.2 in /usr/local/lib/python3.11/dist-packages (from ultralytics) (11.1.0)\n",
            "Requirement already satisfied: pyyaml>=5.3.1 in /usr/local/lib/python3.11/dist-packages (from ultralytics) (6.0.2)\n",
            "Requirement already satisfied: requests>=2.23.0 in /usr/local/lib/python3.11/dist-packages (from ultralytics) (2.32.3)\n",
            "Requirement already satisfied: scipy>=1.4.1 in /usr/local/lib/python3.11/dist-packages (from ultralytics) (1.13.1)\n",
            "Requirement already satisfied: torch>=1.8.0 in /usr/local/lib/python3.11/dist-packages (from ultralytics) (2.5.1+cu124)\n",
            "Requirement already satisfied: torchvision>=0.9.0 in /usr/local/lib/python3.11/dist-packages (from ultralytics) (0.20.1+cu124)\n",
            "Requirement already satisfied: tqdm>=4.64.0 in /usr/local/lib/python3.11/dist-packages (from ultralytics) (4.67.1)\n",
            "Requirement already satisfied: psutil in /usr/local/lib/python3.11/dist-packages (from ultralytics) (5.9.5)\n",
            "Requirement already satisfied: py-cpuinfo in /usr/local/lib/python3.11/dist-packages (from ultralytics) (9.0.0)\n",
            "Requirement already satisfied: seaborn>=0.11.0 in /usr/local/lib/python3.11/dist-packages (from ultralytics) (0.13.2)\n",
            "Requirement already satisfied: ultralytics-thop>=2.0.0 in /usr/local/lib/python3.11/dist-packages (from ultralytics) (2.0.14)\n",
            "Requirement already satisfied: python-dateutil>=2.8.2 in /usr/local/lib/python3.11/dist-packages (from pandas) (2.8.2)\n",
            "Requirement already satisfied: pytz>=2020.1 in /usr/local/lib/python3.11/dist-packages (from pandas) (2024.2)\n",
            "Requirement already satisfied: tzdata>=2022.7 in /usr/local/lib/python3.11/dist-packages (from pandas) (2025.1)\n",
            "Requirement already satisfied: joblib>=1.2.0 in /usr/local/lib/python3.11/dist-packages (from scikit-learn) (1.4.2)\n",
            "Requirement already satisfied: threadpoolctl>=3.1.0 in /usr/local/lib/python3.11/dist-packages (from scikit-learn) (3.5.0)\n",
            "Requirement already satisfied: nvidia-nccl-cu12 in /usr/local/lib/python3.11/dist-packages (from xgboost) (2.21.5)\n",
            "Requirement already satisfied: contourpy>=1.0.1 in /usr/local/lib/python3.11/dist-packages (from matplotlib>=3.3.0->ultralytics) (1.3.1)\n",
            "Requirement already satisfied: cycler>=0.10 in /usr/local/lib/python3.11/dist-packages (from matplotlib>=3.3.0->ultralytics) (0.12.1)\n",
            "Requirement already satisfied: fonttools>=4.22.0 in /usr/local/lib/python3.11/dist-packages (from matplotlib>=3.3.0->ultralytics) (4.55.7)\n",
            "Requirement already satisfied: kiwisolver>=1.3.1 in /usr/local/lib/python3.11/dist-packages (from matplotlib>=3.3.0->ultralytics) (1.4.8)\n",
            "Requirement already satisfied: packaging>=20.0 in /usr/local/lib/python3.11/dist-packages (from matplotlib>=3.3.0->ultralytics) (24.2)\n",
            "Requirement already satisfied: pyparsing>=2.3.1 in /usr/local/lib/python3.11/dist-packages (from matplotlib>=3.3.0->ultralytics) (3.2.1)\n",
            "Requirement already satisfied: six>=1.5 in /usr/local/lib/python3.11/dist-packages (from python-dateutil>=2.8.2->pandas) (1.17.0)\n",
            "Requirement already satisfied: charset-normalizer<4,>=2 in /usr/local/lib/python3.11/dist-packages (from requests>=2.23.0->ultralytics) (3.4.1)\n",
            "Requirement already satisfied: idna<4,>=2.5 in /usr/local/lib/python3.11/dist-packages (from requests>=2.23.0->ultralytics) (3.10)\n",
            "Requirement already satisfied: urllib3<3,>=1.21.1 in /usr/local/lib/python3.11/dist-packages (from requests>=2.23.0->ultralytics) (2.3.0)\n",
            "Requirement already satisfied: certifi>=2017.4.17 in /usr/local/lib/python3.11/dist-packages (from requests>=2.23.0->ultralytics) (2024.12.14)\n",
            "Requirement already satisfied: filelock in /usr/local/lib/python3.11/dist-packages (from torch>=1.8.0->ultralytics) (3.17.0)\n",
            "Requirement already satisfied: typing-extensions>=4.8.0 in /usr/local/lib/python3.11/dist-packages (from torch>=1.8.0->ultralytics) (4.12.2)\n",
            "Requirement already satisfied: networkx in /usr/local/lib/python3.11/dist-packages (from torch>=1.8.0->ultralytics) (3.4.2)\n",
            "Requirement already satisfied: jinja2 in /usr/local/lib/python3.11/dist-packages (from torch>=1.8.0->ultralytics) (3.1.5)\n",
            "Requirement already satisfied: fsspec in /usr/local/lib/python3.11/dist-packages (from torch>=1.8.0->ultralytics) (2024.10.0)\n",
            "Requirement already satisfied: nvidia-cuda-nvrtc-cu12==12.4.127 in /usr/local/lib/python3.11/dist-packages (from torch>=1.8.0->ultralytics) (12.4.127)\n",
            "Requirement already satisfied: nvidia-cuda-runtime-cu12==12.4.127 in /usr/local/lib/python3.11/dist-packages (from torch>=1.8.0->ultralytics) (12.4.127)\n",
            "Requirement already satisfied: nvidia-cuda-cupti-cu12==12.4.127 in /usr/local/lib/python3.11/dist-packages (from torch>=1.8.0->ultralytics) (12.4.127)\n",
            "Requirement already satisfied: nvidia-cudnn-cu12==9.1.0.70 in /usr/local/lib/python3.11/dist-packages (from torch>=1.8.0->ultralytics) (9.1.0.70)\n",
            "Requirement already satisfied: nvidia-cublas-cu12==12.4.5.8 in /usr/local/lib/python3.11/dist-packages (from torch>=1.8.0->ultralytics) (12.4.5.8)\n",
            "Requirement already satisfied: nvidia-cufft-cu12==11.2.1.3 in /usr/local/lib/python3.11/dist-packages (from torch>=1.8.0->ultralytics) (11.2.1.3)\n",
            "Requirement already satisfied: nvidia-curand-cu12==10.3.5.147 in /usr/local/lib/python3.11/dist-packages (from torch>=1.8.0->ultralytics) (10.3.5.147)\n",
            "Requirement already satisfied: nvidia-cusolver-cu12==11.6.1.9 in /usr/local/lib/python3.11/dist-packages (from torch>=1.8.0->ultralytics) (11.6.1.9)\n",
            "Requirement already satisfied: nvidia-cusparse-cu12==12.3.1.170 in /usr/local/lib/python3.11/dist-packages (from torch>=1.8.0->ultralytics) (12.3.1.170)\n",
            "Requirement already satisfied: nvidia-nvtx-cu12==12.4.127 in /usr/local/lib/python3.11/dist-packages (from torch>=1.8.0->ultralytics) (12.4.127)\n",
            "Requirement already satisfied: nvidia-nvjitlink-cu12==12.4.127 in /usr/local/lib/python3.11/dist-packages (from torch>=1.8.0->ultralytics) (12.4.127)\n",
            "Requirement already satisfied: triton==3.1.0 in /usr/local/lib/python3.11/dist-packages (from torch>=1.8.0->ultralytics) (3.1.0)\n",
            "Requirement already satisfied: sympy==1.13.1 in /usr/local/lib/python3.11/dist-packages (from torch>=1.8.0->ultralytics) (1.13.1)\n",
            "Requirement already satisfied: mpmath<1.4,>=1.1.0 in /usr/local/lib/python3.11/dist-packages (from sympy==1.13.1->torch>=1.8.0->ultralytics) (1.3.0)\n",
            "Requirement already satisfied: MarkupSafe>=2.0 in /usr/local/lib/python3.11/dist-packages (from jinja2->torch>=1.8.0->ultralytics) (3.0.2)\n"
          ]
        }
      ],
      "source": [
        "# ✅ Install Required Libraries\n",
        "!pip install ultralytics opencv-python-headless pandas numpy scikit-learn xgboost\n",
        "\n",
        "# ✅ Import Libraries\n",
        "import os\n",
        "import glob\n",
        "import cv2\n",
        "import numpy as np\n",
        "import pandas as pd\n",
        "import torch\n",
        "from ultralytics import YOLO\n",
        "from sklearn.model_selection import train_test_split\n",
        "from sklearn.ensemble import RandomForestRegressor\n",
        "from sklearn.model_selection import train_test_split, cross_val_score\n",
        "from sklearn.preprocessing import StandardScaler\n",
        "from sklearn.metrics import mean_squared_error\n",
        "from xgboost import XGBRegressor\n",
        "import matplotlib.pyplot as plt\n"
      ]
    },
    {
      "cell_type": "code",
      "source": [
        "# ✅ Enable GPU in Google Colab\n",
        "device = 'cuda' if torch.cuda.is_available() else 'cpu'\n",
        "print(f\"Using device: {device}\")\n"
      ],
      "metadata": {
        "colab": {
          "base_uri": "https://localhost:8080/"
        },
        "id": "82JHrkddHEIf",
        "outputId": "8a5523b5-5ac6-4acd-9ff4-0a2c9a52fbd4"
      },
      "execution_count": 13,
      "outputs": [
        {
          "output_type": "stream",
          "name": "stdout",
          "text": [
            "Using device: cuda\n"
          ]
        }
      ]
    },
    {
      "cell_type": "markdown",
      "source": [
        "### Load Yolo11 Models from Google Drive"
      ],
      "metadata": {
        "id": "MIjH37OjIPYt"
      }
    },
    {
      "cell_type": "code",
      "source": [
        "from google.colab import drive\n",
        "drive.mount('/content/drive')"
      ],
      "metadata": {
        "colab": {
          "base_uri": "https://localhost:8080/"
        },
        "id": "H4h3So7sAydM",
        "outputId": "93d103ff-0418-46d1-8883-b1bb3b276f00"
      },
      "execution_count": 17,
      "outputs": [
        {
          "output_type": "stream",
          "name": "stdout",
          "text": [
            "Drive already mounted at /content/drive; to attempt to forcibly remount, call drive.mount(\"/content/drive\", force_remount=True).\n"
          ]
        }
      ]
    },
    {
      "cell_type": "code",
      "source": [
        "from ultralytics import YOLO\n",
        "import os\n",
        "\n",
        "# ✅ Set the correct model path\n",
        "model_path = \"/content/drive/MyDrive/cassava models/Models/\"\n",
        "\n",
        "# ✅ Verify that the files exist before loading\n",
        "models = [\"best_early.pt\", \"best_late.pt\", \"best_full.pt\"]\n",
        "for model_name in models:\n",
        "    full_path = os.path.join(model_path, model_name)\n",
        "    if not os.path.exists(full_path):\n",
        "        raise FileNotFoundError(f\"Error: {full_path} not found. Check if the file is correctly uploaded!\")\n",
        "\n",
        "# ✅ Load YOLO Models with Corrected Path\n",
        "model_early = YOLO(model_path + \"best_early.pt\").to('cuda')\n",
        "model_late = YOLO(model_path + \"best_late.pt\").to('cuda')\n",
        "model_full = YOLO(model_path + \"best_full.pt\").to('cuda')\n",
        "\n",
        "# ✅ Choose the model to use\n",
        "selected_model = model_full  # Change if needed\n",
        "\n",
        "print(\"✅ Models loaded successfully!\")\n"
      ],
      "metadata": {
        "colab": {
          "base_uri": "https://localhost:8080/"
        },
        "id": "S7gnlsDnJMNG",
        "outputId": "97787460-d458-4a79-e2bc-877461bf5333"
      },
      "execution_count": 18,
      "outputs": [
        {
          "output_type": "stream",
          "name": "stdout",
          "text": [
            "✅ Models loaded successfully!\n"
          ]
        }
      ]
    },
    {
      "cell_type": "code",
      "source": [
        "# ✅ Paths to Training & Testing Data\n",
        "data_path = \"/content/drive/MyDrive/cassava models/data/\"\n",
        "train_image_dir = os.path.join(data_path, \"train/A6dzrkjqvl\")  # Folder containing training images\n",
        "test_image_dir = os.path.join(data_path, \"test/A6dzrkjqvl\")    # Folder containing test images\n",
        "train_label_path = os.path.join(data_path, \"Train.csv\")  # CSV with 'image_id' & 'RootVolume'\n",
        "\n",
        "# ✅ Confirm Paths Exist\n",
        "print(\"Checking Directories:\")\n",
        "print(\"Model Path Exists:\", os.path.exists(model_path))\n",
        "print(\"Train Image Directory Exists:\", os.path.exists(train_image_dir))\n",
        "print(\"Test Image Directory Exists:\", os.path.exists(test_image_dir))\n",
        "print(\"Train Labels CSV Exists:\", os.path.exists(train_label_path))\n",
        "\n",
        "# ✅ List some sample files\n",
        "print(\"Sample Training Images:\", os.listdir(train_image_dir)[:5])  # Show first 5 images\n",
        "print(\"Sample Test Images:\", os.listdir(test_image_dir)[:5])  # Show first 5 images\n"
      ],
      "metadata": {
        "colab": {
          "base_uri": "https://localhost:8080/"
        },
        "id": "RXudzmCOomC0",
        "outputId": "bf2c0dd2-993b-40bd-a98b-04e1e428038b"
      },
      "execution_count": null,
      "outputs": [
        {
          "output_type": "stream",
          "name": "stdout",
          "text": [
            "Checking Directories:\n",
            "Model Path Exists: True\n",
            "Train Image Directory Exists: True\n",
            "Test Image Directory Exists: True\n",
            "Train Labels CSV Exists: True\n",
            "Sample Training Images: ['A6dzrkjqvl_L_039.png', 'A6dzrkjqvl_L_027.png', 'A6dzrkjqvl_L_033.png', 'A6dzrkjqvl_L_018.png', 'A6dzrkjqvl_L_003.png']\n",
            "Sample Test Images: ['A6dzrkjqvl_L_080.png', 'A6dzrkjqvl_L_046.png', 'A6dzrkjqvl_L_074.png', 'A6dzrkjqvl_L_026.png', 'A6dzrkjqvl_L_009.png']\n"
          ]
        }
      ]
    },
    {
      "cell_type": "code",
      "source": [
        "import glob\n",
        "\n",
        "# ✅ Get List of Image Paths (Recursively from Subfolders)\n",
        "train_images = sorted(glob.glob(os.path.join(train_image_dir, \"**\", \"*.png\"), recursive=True))\n",
        "test_images = sorted(glob.glob(os.path.join(test_image_dir, \"**\", \"*.png\"), recursive=True))\n",
        "\n",
        "# ✅ Check if images are now detected\n",
        "print(f\"✅ Found {len(train_images)} training images and {len(test_images)} test images.\")\n"
      ],
      "metadata": {
        "colab": {
          "base_uri": "https://localhost:8080/"
        },
        "id": "xZ-YflW-rlKw",
        "outputId": "4ca58259-5440-43a4-8ff9-b4905f0dd140"
      },
      "execution_count": null,
      "outputs": [
        {
          "output_type": "stream",
          "name": "stdout",
          "text": [
            "✅ Found 164 training images and 164 test images.\n"
          ]
        }
      ]
    },
    {
      "cell_type": "code",
      "source": [
        "def extract_features(model, image_paths):\n",
        "    \"\"\"\n",
        "    Extracts features from images using YOLOv11 for instance segmentation.\n",
        "    Features:\n",
        "      - num_detections: Number of root segments detected.\n",
        "      - total_area: Sum of bounding box areas.\n",
        "      - avg_size: Average bounding box size per detection.\n",
        "    \"\"\"\n",
        "    feature_list = []\n",
        "    for img_path in image_paths:\n",
        "        img = cv2.imread(img_path)\n",
        "        results = model.predict(img, conf=0.25)\n",
        "\n",
        "        # Extract Bounding Box Features\n",
        "        num_detections = len(results[0].boxes)\n",
        "        total_area = sum((box.xyxy[0][2] - box.xyxy[0][0]) * (box.xyxy[0][3] - box.xyxy[0][1]) for box in results[0].boxes)\n",
        "        avg_size = total_area / num_detections if num_detections > 0 else 0\n",
        "\n",
        "        # Store Features\n",
        "        feature_list.append({\n",
        "            \"image_id\": os.path.basename(img_path).replace(\".jpg\", \"\"),\n",
        "            \"num_detections\": num_detections,\n",
        "            \"total_area\": total_area,\n",
        "            \"avg_size\": avg_size\n",
        "        })\n",
        "\n",
        "    return pd.DataFrame(feature_list)\n",
        "\n",
        "# ✅ Extract Features from Training & Testing Data\n",
        "print(\"Extracting features from training images...\")\n",
        "train_features = extract_features(selected_model, train_images)\n",
        "\n",
        "print(\"Extracting features from test images...\")\n",
        "test_features = extract_features(selected_model, test_images)\n"
      ],
      "metadata": {
        "colab": {
          "base_uri": "https://localhost:8080/"
        },
        "id": "uf6CYucTsZH7",
        "outputId": "7ca741d2-d558-4b37-cc01-d62a2a9a1d21"
      },
      "execution_count": null,
      "outputs": [
        {
          "output_type": "stream",
          "name": "stdout",
          "text": [
            "Extracting features from training images...\n",
            "\n",
            "0: 32x640 3 roots, 29.8ms\n",
            "Speed: 2.9ms preprocess, 29.8ms inference, 2.3ms postprocess per image at shape (1, 3, 32, 640)\n",
            "\n",
            "0: 32x640 2 roots, 68.4ms\n",
            "Speed: 0.9ms preprocess, 68.4ms inference, 5.8ms postprocess per image at shape (1, 3, 32, 640)\n",
            "\n",
            "0: 32x640 2 roots, 24.1ms\n",
            "Speed: 2.4ms preprocess, 24.1ms inference, 1.8ms postprocess per image at shape (1, 3, 32, 640)\n",
            "\n",
            "0: 32x640 (no detections), 24.7ms\n",
            "Speed: 0.9ms preprocess, 24.7ms inference, 0.4ms postprocess per image at shape (1, 3, 32, 640)\n",
            "\n",
            "0: 32x640 (no detections), 25.0ms\n",
            "Speed: 0.7ms preprocess, 25.0ms inference, 0.4ms postprocess per image at shape (1, 3, 32, 640)\n",
            "\n",
            "0: 32x640 (no detections), 23.7ms\n",
            "Speed: 1.8ms preprocess, 23.7ms inference, 0.4ms postprocess per image at shape (1, 3, 32, 640)\n",
            "\n",
            "0: 32x640 1 root, 23.6ms\n",
            "Speed: 1.8ms preprocess, 23.6ms inference, 1.7ms postprocess per image at shape (1, 3, 32, 640)\n",
            "\n",
            "0: 32x640 (no detections), 24.0ms\n",
            "Speed: 1.4ms preprocess, 24.0ms inference, 0.4ms postprocess per image at shape (1, 3, 32, 640)\n",
            "\n",
            "0: 32x640 (no detections), 19.8ms\n",
            "Speed: 0.6ms preprocess, 19.8ms inference, 0.4ms postprocess per image at shape (1, 3, 32, 640)\n",
            "\n",
            "0: 32x640 (no detections), 19.5ms\n",
            "Speed: 1.3ms preprocess, 19.5ms inference, 0.4ms postprocess per image at shape (1, 3, 32, 640)\n",
            "\n",
            "0: 32x640 (no detections), 18.8ms\n",
            "Speed: 1.7ms preprocess, 18.8ms inference, 0.4ms postprocess per image at shape (1, 3, 32, 640)\n",
            "\n",
            "0: 32x640 (no detections), 19.2ms\n",
            "Speed: 0.6ms preprocess, 19.2ms inference, 0.4ms postprocess per image at shape (1, 3, 32, 640)\n",
            "\n",
            "0: 32x640 (no detections), 18.9ms\n",
            "Speed: 0.5ms preprocess, 18.9ms inference, 0.3ms postprocess per image at shape (1, 3, 32, 640)\n",
            "\n",
            "0: 32x640 (no detections), 18.7ms\n",
            "Speed: 1.4ms preprocess, 18.7ms inference, 0.3ms postprocess per image at shape (1, 3, 32, 640)\n",
            "\n",
            "0: 32x640 (no detections), 18.9ms\n",
            "Speed: 2.0ms preprocess, 18.9ms inference, 0.4ms postprocess per image at shape (1, 3, 32, 640)\n",
            "\n",
            "0: 32x640 (no detections), 19.0ms\n",
            "Speed: 0.6ms preprocess, 19.0ms inference, 0.4ms postprocess per image at shape (1, 3, 32, 640)\n",
            "\n",
            "0: 32x640 1 root, 18.8ms\n",
            "Speed: 1.4ms preprocess, 18.8ms inference, 1.7ms postprocess per image at shape (1, 3, 32, 640)\n",
            "\n",
            "0: 32x640 1 root, 18.3ms\n",
            "Speed: 0.8ms preprocess, 18.3ms inference, 1.6ms postprocess per image at shape (1, 3, 32, 640)\n",
            "\n",
            "0: 32x640 1 root, 18.9ms\n",
            "Speed: 0.6ms preprocess, 18.9ms inference, 1.5ms postprocess per image at shape (1, 3, 32, 640)\n",
            "\n",
            "0: 32x640 1 root, 19.3ms\n",
            "Speed: 0.8ms preprocess, 19.3ms inference, 1.5ms postprocess per image at shape (1, 3, 32, 640)\n",
            "\n",
            "0: 32x640 1 root, 20.2ms\n",
            "Speed: 1.5ms preprocess, 20.2ms inference, 1.9ms postprocess per image at shape (1, 3, 32, 640)\n",
            "\n",
            "0: 32x640 (no detections), 28.8ms\n",
            "Speed: 0.7ms preprocess, 28.8ms inference, 0.5ms postprocess per image at shape (1, 3, 32, 640)\n",
            "\n",
            "0: 32x640 (no detections), 24.0ms\n",
            "Speed: 0.5ms preprocess, 24.0ms inference, 0.6ms postprocess per image at shape (1, 3, 32, 640)\n",
            "\n",
            "0: 32x640 (no detections), 26.5ms\n",
            "Speed: 1.3ms preprocess, 26.5ms inference, 0.5ms postprocess per image at shape (1, 3, 32, 640)\n",
            "\n",
            "0: 32x640 (no detections), 23.6ms\n",
            "Speed: 0.4ms preprocess, 23.6ms inference, 0.5ms postprocess per image at shape (1, 3, 32, 640)\n",
            "\n",
            "0: 32x640 (no detections), 24.8ms\n",
            "Speed: 0.6ms preprocess, 24.8ms inference, 0.4ms postprocess per image at shape (1, 3, 32, 640)\n",
            "\n",
            "0: 32x640 (no detections), 25.3ms\n",
            "Speed: 0.5ms preprocess, 25.3ms inference, 0.4ms postprocess per image at shape (1, 3, 32, 640)\n",
            "\n",
            "0: 32x640 (no detections), 23.0ms\n",
            "Speed: 1.7ms preprocess, 23.0ms inference, 0.5ms postprocess per image at shape (1, 3, 32, 640)\n",
            "\n",
            "0: 32x640 (no detections), 34.6ms\n",
            "Speed: 1.2ms preprocess, 34.6ms inference, 0.5ms postprocess per image at shape (1, 3, 32, 640)\n",
            "\n",
            "0: 32x640 (no detections), 25.3ms\n",
            "Speed: 0.7ms preprocess, 25.3ms inference, 0.5ms postprocess per image at shape (1, 3, 32, 640)\n",
            "\n",
            "0: 32x640 (no detections), 24.2ms\n",
            "Speed: 1.5ms preprocess, 24.2ms inference, 0.6ms postprocess per image at shape (1, 3, 32, 640)\n",
            "\n",
            "0: 32x640 (no detections), 22.5ms\n",
            "Speed: 0.5ms preprocess, 22.5ms inference, 0.4ms postprocess per image at shape (1, 3, 32, 640)\n",
            "\n",
            "0: 32x640 (no detections), 17.0ms\n",
            "Speed: 0.8ms preprocess, 17.0ms inference, 0.3ms postprocess per image at shape (1, 3, 32, 640)\n",
            "\n",
            "0: 32x640 (no detections), 18.3ms\n",
            "Speed: 0.6ms preprocess, 18.3ms inference, 0.4ms postprocess per image at shape (1, 3, 32, 640)\n",
            "\n",
            "0: 32x640 (no detections), 18.0ms\n",
            "Speed: 1.1ms preprocess, 18.0ms inference, 0.3ms postprocess per image at shape (1, 3, 32, 640)\n",
            "\n",
            "0: 32x640 (no detections), 18.6ms\n",
            "Speed: 0.4ms preprocess, 18.6ms inference, 0.4ms postprocess per image at shape (1, 3, 32, 640)\n",
            "\n",
            "0: 32x640 (no detections), 20.9ms\n",
            "Speed: 0.5ms preprocess, 20.9ms inference, 0.3ms postprocess per image at shape (1, 3, 32, 640)\n",
            "\n",
            "0: 32x640 (no detections), 18.6ms\n",
            "Speed: 0.6ms preprocess, 18.6ms inference, 0.3ms postprocess per image at shape (1, 3, 32, 640)\n",
            "\n",
            "0: 32x640 (no detections), 19.2ms\n",
            "Speed: 0.4ms preprocess, 19.2ms inference, 0.3ms postprocess per image at shape (1, 3, 32, 640)\n",
            "\n",
            "0: 32x640 (no detections), 18.8ms\n",
            "Speed: 0.6ms preprocess, 18.8ms inference, 0.4ms postprocess per image at shape (1, 3, 32, 640)\n",
            "\n",
            "0: 32x640 (no detections), 18.6ms\n",
            "Speed: 0.7ms preprocess, 18.6ms inference, 0.4ms postprocess per image at shape (1, 3, 32, 640)\n",
            "\n",
            "0: 32x640 (no detections), 18.8ms\n",
            "Speed: 0.6ms preprocess, 18.8ms inference, 0.4ms postprocess per image at shape (1, 3, 32, 640)\n",
            "\n",
            "0: 32x640 (no detections), 18.6ms\n",
            "Speed: 0.7ms preprocess, 18.6ms inference, 0.5ms postprocess per image at shape (1, 3, 32, 640)\n",
            "\n",
            "0: 32x640 (no detections), 18.8ms\n",
            "Speed: 0.7ms preprocess, 18.8ms inference, 0.4ms postprocess per image at shape (1, 3, 32, 640)\n",
            "\n",
            "0: 32x640 (no detections), 20.0ms\n",
            "Speed: 1.3ms preprocess, 20.0ms inference, 0.4ms postprocess per image at shape (1, 3, 32, 640)\n",
            "\n",
            "0: 32x640 (no detections), 20.9ms\n",
            "Speed: 1.9ms preprocess, 20.9ms inference, 0.4ms postprocess per image at shape (1, 3, 32, 640)\n",
            "\n",
            "0: 32x640 (no detections), 18.2ms\n",
            "Speed: 1.5ms preprocess, 18.2ms inference, 0.4ms postprocess per image at shape (1, 3, 32, 640)\n",
            "\n",
            "0: 32x640 (no detections), 17.1ms\n",
            "Speed: 1.7ms preprocess, 17.1ms inference, 0.4ms postprocess per image at shape (1, 3, 32, 640)\n",
            "\n",
            "0: 32x640 (no detections), 19.5ms\n",
            "Speed: 1.0ms preprocess, 19.5ms inference, 0.4ms postprocess per image at shape (1, 3, 32, 640)\n",
            "\n",
            "0: 32x640 (no detections), 23.1ms\n",
            "Speed: 0.7ms preprocess, 23.1ms inference, 0.5ms postprocess per image at shape (1, 3, 32, 640)\n",
            "\n",
            "0: 32x640 (no detections), 24.7ms\n",
            "Speed: 0.8ms preprocess, 24.7ms inference, 0.4ms postprocess per image at shape (1, 3, 32, 640)\n",
            "\n",
            "0: 32x640 (no detections), 24.9ms\n",
            "Speed: 0.4ms preprocess, 24.9ms inference, 0.4ms postprocess per image at shape (1, 3, 32, 640)\n",
            "\n",
            "0: 32x640 (no detections), 28.9ms\n",
            "Speed: 0.5ms preprocess, 28.9ms inference, 0.6ms postprocess per image at shape (1, 3, 32, 640)\n",
            "\n",
            "0: 32x640 (no detections), 33.9ms\n",
            "Speed: 0.5ms preprocess, 33.9ms inference, 0.6ms postprocess per image at shape (1, 3, 32, 640)\n",
            "\n",
            "0: 32x640 (no detections), 37.4ms\n",
            "Speed: 0.7ms preprocess, 37.4ms inference, 0.7ms postprocess per image at shape (1, 3, 32, 640)\n",
            "\n",
            "0: 32x640 (no detections), 31.9ms\n",
            "Speed: 0.5ms preprocess, 31.9ms inference, 1.1ms postprocess per image at shape (1, 3, 32, 640)\n",
            "\n",
            "0: 32x640 (no detections), 39.8ms\n",
            "Speed: 0.5ms preprocess, 39.8ms inference, 0.6ms postprocess per image at shape (1, 3, 32, 640)\n",
            "\n",
            "0: 32x640 (no detections), 40.2ms\n",
            "Speed: 0.6ms preprocess, 40.2ms inference, 0.6ms postprocess per image at shape (1, 3, 32, 640)\n",
            "\n",
            "0: 32x640 (no detections), 26.5ms\n",
            "Speed: 0.6ms preprocess, 26.5ms inference, 0.5ms postprocess per image at shape (1, 3, 32, 640)\n",
            "\n",
            "0: 32x640 (no detections), 32.8ms\n",
            "Speed: 0.6ms preprocess, 32.8ms inference, 0.5ms postprocess per image at shape (1, 3, 32, 640)\n",
            "\n",
            "0: 32x640 (no detections), 24.3ms\n",
            "Speed: 0.5ms preprocess, 24.3ms inference, 0.6ms postprocess per image at shape (1, 3, 32, 640)\n",
            "\n",
            "0: 32x640 (no detections), 26.2ms\n",
            "Speed: 0.5ms preprocess, 26.2ms inference, 0.5ms postprocess per image at shape (1, 3, 32, 640)\n",
            "\n",
            "0: 32x640 (no detections), 23.6ms\n",
            "Speed: 0.4ms preprocess, 23.6ms inference, 0.5ms postprocess per image at shape (1, 3, 32, 640)\n",
            "\n",
            "0: 32x640 (no detections), 24.5ms\n",
            "Speed: 0.4ms preprocess, 24.5ms inference, 0.6ms postprocess per image at shape (1, 3, 32, 640)\n",
            "\n",
            "0: 32x640 (no detections), 22.4ms\n",
            "Speed: 0.5ms preprocess, 22.4ms inference, 0.5ms postprocess per image at shape (1, 3, 32, 640)\n",
            "\n",
            "0: 32x640 (no detections), 23.3ms\n",
            "Speed: 0.4ms preprocess, 23.3ms inference, 0.4ms postprocess per image at shape (1, 3, 32, 640)\n",
            "\n",
            "0: 32x640 (no detections), 22.4ms\n",
            "Speed: 0.7ms preprocess, 22.4ms inference, 0.5ms postprocess per image at shape (1, 3, 32, 640)\n",
            "\n",
            "0: 32x640 (no detections), 22.8ms\n",
            "Speed: 0.5ms preprocess, 22.8ms inference, 0.5ms postprocess per image at shape (1, 3, 32, 640)\n",
            "\n",
            "0: 32x640 (no detections), 22.8ms\n",
            "Speed: 0.5ms preprocess, 22.8ms inference, 0.4ms postprocess per image at shape (1, 3, 32, 640)\n",
            "\n",
            "0: 32x640 (no detections), 23.1ms\n",
            "Speed: 0.5ms preprocess, 23.1ms inference, 0.4ms postprocess per image at shape (1, 3, 32, 640)\n",
            "\n",
            "0: 32x640 (no detections), 27.7ms\n",
            "Speed: 0.5ms preprocess, 27.7ms inference, 0.6ms postprocess per image at shape (1, 3, 32, 640)\n",
            "\n",
            "0: 32x640 (no detections), 23.3ms\n",
            "Speed: 0.9ms preprocess, 23.3ms inference, 0.4ms postprocess per image at shape (1, 3, 32, 640)\n",
            "\n",
            "0: 32x640 (no detections), 22.5ms\n",
            "Speed: 0.6ms preprocess, 22.5ms inference, 0.5ms postprocess per image at shape (1, 3, 32, 640)\n",
            "\n",
            "0: 32x640 (no detections), 27.7ms\n",
            "Speed: 0.4ms preprocess, 27.7ms inference, 0.5ms postprocess per image at shape (1, 3, 32, 640)\n",
            "\n",
            "0: 32x640 (no detections), 33.8ms\n",
            "Speed: 1.5ms preprocess, 33.8ms inference, 0.6ms postprocess per image at shape (1, 3, 32, 640)\n",
            "\n",
            "0: 32x640 (no detections), 30.0ms\n",
            "Speed: 0.9ms preprocess, 30.0ms inference, 0.5ms postprocess per image at shape (1, 3, 32, 640)\n",
            "\n",
            "0: 32x640 (no detections), 29.5ms\n",
            "Speed: 0.4ms preprocess, 29.5ms inference, 0.5ms postprocess per image at shape (1, 3, 32, 640)\n",
            "\n",
            "0: 32x640 (no detections), 25.1ms\n",
            "Speed: 0.9ms preprocess, 25.1ms inference, 0.5ms postprocess per image at shape (1, 3, 32, 640)\n",
            "\n",
            "0: 32x640 (no detections), 27.4ms\n",
            "Speed: 0.5ms preprocess, 27.4ms inference, 0.6ms postprocess per image at shape (1, 3, 32, 640)\n",
            "\n",
            "0: 32x640 (no detections), 25.1ms\n",
            "Speed: 0.4ms preprocess, 25.1ms inference, 0.5ms postprocess per image at shape (1, 3, 32, 640)\n",
            "\n",
            "0: 32x640 (no detections), 27.5ms\n",
            "Speed: 0.8ms preprocess, 27.5ms inference, 0.5ms postprocess per image at shape (1, 3, 32, 640)\n",
            "\n",
            "0: 32x640 (no detections), 33.0ms\n",
            "Speed: 1.1ms preprocess, 33.0ms inference, 0.5ms postprocess per image at shape (1, 3, 32, 640)\n",
            "\n",
            "0: 32x640 1 root, 40.0ms\n",
            "Speed: 0.5ms preprocess, 40.0ms inference, 2.6ms postprocess per image at shape (1, 3, 32, 640)\n",
            "\n",
            "0: 32x640 2 roots, 32.3ms\n",
            "Speed: 0.5ms preprocess, 32.3ms inference, 2.7ms postprocess per image at shape (1, 3, 32, 640)\n",
            "\n",
            "0: 32x640 2 roots, 25.0ms\n",
            "Speed: 0.5ms preprocess, 25.0ms inference, 2.8ms postprocess per image at shape (1, 3, 32, 640)\n",
            "\n",
            "0: 32x640 1 root, 26.7ms\n",
            "Speed: 0.5ms preprocess, 26.7ms inference, 2.6ms postprocess per image at shape (1, 3, 32, 640)\n",
            "\n",
            "0: 32x640 (no detections), 32.3ms\n",
            "Speed: 0.7ms preprocess, 32.3ms inference, 0.5ms postprocess per image at shape (1, 3, 32, 640)\n",
            "\n",
            "0: 32x640 2 roots, 26.0ms\n",
            "Speed: 0.4ms preprocess, 26.0ms inference, 2.2ms postprocess per image at shape (1, 3, 32, 640)\n",
            "\n",
            "0: 32x640 3 roots, 30.7ms\n",
            "Speed: 0.6ms preprocess, 30.7ms inference, 2.1ms postprocess per image at shape (1, 3, 32, 640)\n",
            "\n",
            "0: 32x640 2 roots, 21.6ms\n",
            "Speed: 0.6ms preprocess, 21.6ms inference, 3.3ms postprocess per image at shape (1, 3, 32, 640)\n",
            "\n",
            "0: 32x640 1 root, 25.3ms\n",
            "Speed: 0.6ms preprocess, 25.3ms inference, 2.6ms postprocess per image at shape (1, 3, 32, 640)\n",
            "\n",
            "0: 32x640 1 root, 22.8ms\n",
            "Speed: 0.6ms preprocess, 22.8ms inference, 4.6ms postprocess per image at shape (1, 3, 32, 640)\n",
            "\n",
            "0: 32x640 (no detections), 23.1ms\n",
            "Speed: 0.6ms preprocess, 23.1ms inference, 0.4ms postprocess per image at shape (1, 3, 32, 640)\n",
            "\n",
            "0: 32x640 (no detections), 22.4ms\n",
            "Speed: 0.6ms preprocess, 22.4ms inference, 0.5ms postprocess per image at shape (1, 3, 32, 640)\n",
            "\n",
            "0: 32x640 (no detections), 22.6ms\n",
            "Speed: 0.5ms preprocess, 22.6ms inference, 0.4ms postprocess per image at shape (1, 3, 32, 640)\n",
            "\n",
            "0: 32x640 (no detections), 23.5ms\n",
            "Speed: 0.5ms preprocess, 23.5ms inference, 0.4ms postprocess per image at shape (1, 3, 32, 640)\n",
            "\n",
            "0: 32x640 (no detections), 28.0ms\n",
            "Speed: 0.4ms preprocess, 28.0ms inference, 0.5ms postprocess per image at shape (1, 3, 32, 640)\n",
            "\n",
            "0: 32x640 (no detections), 28.8ms\n",
            "Speed: 0.4ms preprocess, 28.8ms inference, 1.1ms postprocess per image at shape (1, 3, 32, 640)\n",
            "\n",
            "0: 32x640 (no detections), 28.2ms\n",
            "Speed: 0.6ms preprocess, 28.2ms inference, 0.5ms postprocess per image at shape (1, 3, 32, 640)\n",
            "\n",
            "0: 32x640 (no detections), 30.6ms\n",
            "Speed: 0.7ms preprocess, 30.6ms inference, 0.5ms postprocess per image at shape (1, 3, 32, 640)\n",
            "\n",
            "0: 32x640 1 root, 34.4ms\n",
            "Speed: 0.4ms preprocess, 34.4ms inference, 2.9ms postprocess per image at shape (1, 3, 32, 640)\n",
            "\n",
            "0: 32x640 (no detections), 26.9ms\n",
            "Speed: 0.4ms preprocess, 26.9ms inference, 0.6ms postprocess per image at shape (1, 3, 32, 640)\n",
            "\n",
            "0: 32x640 (no detections), 30.5ms\n",
            "Speed: 0.5ms preprocess, 30.5ms inference, 0.5ms postprocess per image at shape (1, 3, 32, 640)\n",
            "\n",
            "0: 32x640 (no detections), 34.9ms\n",
            "Speed: 0.5ms preprocess, 34.9ms inference, 0.6ms postprocess per image at shape (1, 3, 32, 640)\n",
            "\n",
            "0: 32x640 (no detections), 32.9ms\n",
            "Speed: 0.5ms preprocess, 32.9ms inference, 0.4ms postprocess per image at shape (1, 3, 32, 640)\n",
            "\n",
            "0: 32x640 (no detections), 23.3ms\n",
            "Speed: 0.5ms preprocess, 23.3ms inference, 0.4ms postprocess per image at shape (1, 3, 32, 640)\n",
            "\n",
            "0: 32x640 (no detections), 26.7ms\n",
            "Speed: 0.9ms preprocess, 26.7ms inference, 0.4ms postprocess per image at shape (1, 3, 32, 640)\n",
            "\n",
            "0: 32x640 (no detections), 25.1ms\n",
            "Speed: 0.5ms preprocess, 25.1ms inference, 0.5ms postprocess per image at shape (1, 3, 32, 640)\n",
            "\n",
            "0: 32x640 (no detections), 21.8ms\n",
            "Speed: 0.4ms preprocess, 21.8ms inference, 0.4ms postprocess per image at shape (1, 3, 32, 640)\n",
            "\n",
            "0: 32x640 (no detections), 22.3ms\n",
            "Speed: 0.4ms preprocess, 22.3ms inference, 0.5ms postprocess per image at shape (1, 3, 32, 640)\n",
            "\n",
            "0: 32x640 (no detections), 22.7ms\n",
            "Speed: 0.4ms preprocess, 22.7ms inference, 0.4ms postprocess per image at shape (1, 3, 32, 640)\n",
            "\n",
            "0: 32x640 (no detections), 38.1ms\n",
            "Speed: 0.5ms preprocess, 38.1ms inference, 0.4ms postprocess per image at shape (1, 3, 32, 640)\n",
            "\n",
            "0: 32x640 (no detections), 23.8ms\n",
            "Speed: 0.5ms preprocess, 23.8ms inference, 0.4ms postprocess per image at shape (1, 3, 32, 640)\n",
            "\n",
            "0: 32x640 (no detections), 21.7ms\n",
            "Speed: 0.4ms preprocess, 21.7ms inference, 0.4ms postprocess per image at shape (1, 3, 32, 640)\n",
            "\n",
            "0: 32x640 (no detections), 22.4ms\n",
            "Speed: 0.5ms preprocess, 22.4ms inference, 0.5ms postprocess per image at shape (1, 3, 32, 640)\n",
            "\n",
            "0: 32x640 (no detections), 22.2ms\n",
            "Speed: 0.4ms preprocess, 22.2ms inference, 0.5ms postprocess per image at shape (1, 3, 32, 640)\n",
            "\n",
            "0: 32x640 (no detections), 23.1ms\n",
            "Speed: 0.4ms preprocess, 23.1ms inference, 0.5ms postprocess per image at shape (1, 3, 32, 640)\n",
            "\n",
            "0: 32x640 (no detections), 25.1ms\n",
            "Speed: 0.4ms preprocess, 25.1ms inference, 0.5ms postprocess per image at shape (1, 3, 32, 640)\n",
            "\n",
            "0: 32x640 (no detections), 22.9ms\n",
            "Speed: 0.4ms preprocess, 22.9ms inference, 0.4ms postprocess per image at shape (1, 3, 32, 640)\n",
            "\n",
            "0: 32x640 (no detections), 30.8ms\n",
            "Speed: 0.5ms preprocess, 30.8ms inference, 0.5ms postprocess per image at shape (1, 3, 32, 640)\n",
            "\n",
            "0: 32x640 (no detections), 37.6ms\n",
            "Speed: 0.5ms preprocess, 37.6ms inference, 0.6ms postprocess per image at shape (1, 3, 32, 640)\n",
            "\n",
            "0: 32x640 (no detections), 35.8ms\n",
            "Speed: 0.5ms preprocess, 35.8ms inference, 0.6ms postprocess per image at shape (1, 3, 32, 640)\n",
            "\n",
            "0: 32x640 (no detections), 31.5ms\n",
            "Speed: 0.5ms preprocess, 31.5ms inference, 0.5ms postprocess per image at shape (1, 3, 32, 640)\n",
            "\n",
            "0: 32x640 (no detections), 35.3ms\n",
            "Speed: 0.5ms preprocess, 35.3ms inference, 0.6ms postprocess per image at shape (1, 3, 32, 640)\n",
            "\n",
            "0: 32x640 (no detections), 32.1ms\n",
            "Speed: 1.3ms preprocess, 32.1ms inference, 0.5ms postprocess per image at shape (1, 3, 32, 640)\n",
            "\n",
            "0: 32x640 (no detections), 43.2ms\n",
            "Speed: 0.4ms preprocess, 43.2ms inference, 1.3ms postprocess per image at shape (1, 3, 32, 640)\n",
            "\n",
            "0: 32x640 (no detections), 49.8ms\n",
            "Speed: 0.5ms preprocess, 49.8ms inference, 0.6ms postprocess per image at shape (1, 3, 32, 640)\n",
            "\n",
            "0: 32x640 (no detections), 39.1ms\n",
            "Speed: 1.4ms preprocess, 39.1ms inference, 0.6ms postprocess per image at shape (1, 3, 32, 640)\n",
            "\n",
            "0: 32x640 (no detections), 26.2ms\n",
            "Speed: 0.5ms preprocess, 26.2ms inference, 0.6ms postprocess per image at shape (1, 3, 32, 640)\n",
            "\n",
            "0: 32x640 (no detections), 35.9ms\n",
            "Speed: 0.5ms preprocess, 35.9ms inference, 0.6ms postprocess per image at shape (1, 3, 32, 640)\n",
            "\n",
            "0: 32x640 (no detections), 32.5ms\n",
            "Speed: 0.5ms preprocess, 32.5ms inference, 0.6ms postprocess per image at shape (1, 3, 32, 640)\n",
            "\n",
            "0: 32x640 (no detections), 32.9ms\n",
            "Speed: 0.5ms preprocess, 32.9ms inference, 0.5ms postprocess per image at shape (1, 3, 32, 640)\n",
            "\n",
            "0: 32x640 (no detections), 33.4ms\n",
            "Speed: 1.2ms preprocess, 33.4ms inference, 0.6ms postprocess per image at shape (1, 3, 32, 640)\n",
            "\n",
            "0: 32x640 (no detections), 29.8ms\n",
            "Speed: 0.5ms preprocess, 29.8ms inference, 0.6ms postprocess per image at shape (1, 3, 32, 640)\n",
            "\n",
            "0: 32x640 (no detections), 37.6ms\n",
            "Speed: 0.5ms preprocess, 37.6ms inference, 0.5ms postprocess per image at shape (1, 3, 32, 640)\n",
            "\n",
            "0: 32x640 (no detections), 30.2ms\n",
            "Speed: 0.5ms preprocess, 30.2ms inference, 0.5ms postprocess per image at shape (1, 3, 32, 640)\n",
            "\n",
            "0: 32x640 (no detections), 31.2ms\n",
            "Speed: 0.5ms preprocess, 31.2ms inference, 0.5ms postprocess per image at shape (1, 3, 32, 640)\n",
            "\n",
            "0: 32x640 (no detections), 29.7ms\n",
            "Speed: 0.4ms preprocess, 29.7ms inference, 0.5ms postprocess per image at shape (1, 3, 32, 640)\n",
            "\n",
            "0: 32x640 (no detections), 28.0ms\n",
            "Speed: 0.5ms preprocess, 28.0ms inference, 0.6ms postprocess per image at shape (1, 3, 32, 640)\n",
            "\n",
            "0: 32x640 (no detections), 30.6ms\n",
            "Speed: 0.4ms preprocess, 30.6ms inference, 0.5ms postprocess per image at shape (1, 3, 32, 640)\n",
            "\n",
            "0: 32x640 (no detections), 33.5ms\n",
            "Speed: 0.4ms preprocess, 33.5ms inference, 0.5ms postprocess per image at shape (1, 3, 32, 640)\n",
            "\n",
            "0: 32x640 (no detections), 34.4ms\n",
            "Speed: 0.5ms preprocess, 34.4ms inference, 0.6ms postprocess per image at shape (1, 3, 32, 640)\n",
            "\n",
            "0: 32x640 (no detections), 38.8ms\n",
            "Speed: 0.5ms preprocess, 38.8ms inference, 0.5ms postprocess per image at shape (1, 3, 32, 640)\n",
            "\n",
            "0: 32x640 (no detections), 41.0ms\n",
            "Speed: 2.3ms preprocess, 41.0ms inference, 0.6ms postprocess per image at shape (1, 3, 32, 640)\n",
            "\n",
            "0: 32x640 (no detections), 33.0ms\n",
            "Speed: 0.5ms preprocess, 33.0ms inference, 0.5ms postprocess per image at shape (1, 3, 32, 640)\n",
            "\n",
            "0: 32x640 (no detections), 31.7ms\n",
            "Speed: 0.5ms preprocess, 31.7ms inference, 0.5ms postprocess per image at shape (1, 3, 32, 640)\n",
            "\n",
            "0: 32x640 (no detections), 35.2ms\n",
            "Speed: 0.5ms preprocess, 35.2ms inference, 0.8ms postprocess per image at shape (1, 3, 32, 640)\n",
            "\n",
            "0: 32x640 (no detections), 41.1ms\n",
            "Speed: 0.5ms preprocess, 41.1ms inference, 0.7ms postprocess per image at shape (1, 3, 32, 640)\n",
            "\n",
            "0: 32x640 (no detections), 21.9ms\n",
            "Speed: 0.5ms preprocess, 21.9ms inference, 0.4ms postprocess per image at shape (1, 3, 32, 640)\n",
            "\n",
            "0: 32x640 (no detections), 20.6ms\n",
            "Speed: 0.7ms preprocess, 20.6ms inference, 0.4ms postprocess per image at shape (1, 3, 32, 640)\n",
            "\n",
            "0: 32x640 (no detections), 19.8ms\n",
            "Speed: 0.5ms preprocess, 19.8ms inference, 0.4ms postprocess per image at shape (1, 3, 32, 640)\n",
            "\n",
            "0: 32x640 (no detections), 19.7ms\n",
            "Speed: 0.5ms preprocess, 19.7ms inference, 0.4ms postprocess per image at shape (1, 3, 32, 640)\n",
            "\n",
            "0: 32x640 (no detections), 21.7ms\n",
            "Speed: 0.9ms preprocess, 21.7ms inference, 0.4ms postprocess per image at shape (1, 3, 32, 640)\n",
            "\n",
            "0: 32x640 (no detections), 28.1ms\n",
            "Speed: 0.5ms preprocess, 28.1ms inference, 0.4ms postprocess per image at shape (1, 3, 32, 640)\n",
            "\n",
            "0: 32x640 (no detections), 19.5ms\n",
            "Speed: 1.3ms preprocess, 19.5ms inference, 0.4ms postprocess per image at shape (1, 3, 32, 640)\n",
            "\n",
            "0: 32x640 (no detections), 19.0ms\n",
            "Speed: 0.6ms preprocess, 19.0ms inference, 0.4ms postprocess per image at shape (1, 3, 32, 640)\n",
            "\n",
            "0: 32x640 (no detections), 19.5ms\n",
            "Speed: 0.3ms preprocess, 19.5ms inference, 0.4ms postprocess per image at shape (1, 3, 32, 640)\n",
            "\n",
            "0: 32x640 (no detections), 19.2ms\n",
            "Speed: 0.8ms preprocess, 19.2ms inference, 0.4ms postprocess per image at shape (1, 3, 32, 640)\n",
            "\n",
            "0: 32x640 (no detections), 19.0ms\n",
            "Speed: 0.5ms preprocess, 19.0ms inference, 0.4ms postprocess per image at shape (1, 3, 32, 640)\n",
            "\n",
            "0: 32x640 (no detections), 17.5ms\n",
            "Speed: 1.6ms preprocess, 17.5ms inference, 0.4ms postprocess per image at shape (1, 3, 32, 640)\n",
            "\n",
            "0: 32x640 (no detections), 18.6ms\n",
            "Speed: 1.9ms preprocess, 18.6ms inference, 0.4ms postprocess per image at shape (1, 3, 32, 640)\n",
            "\n",
            "0: 32x640 (no detections), 18.4ms\n",
            "Speed: 1.6ms preprocess, 18.4ms inference, 0.4ms postprocess per image at shape (1, 3, 32, 640)\n",
            "\n",
            "0: 32x640 (no detections), 19.1ms\n",
            "Speed: 1.9ms preprocess, 19.1ms inference, 0.4ms postprocess per image at shape (1, 3, 32, 640)\n",
            "\n",
            "0: 32x640 (no detections), 18.6ms\n",
            "Speed: 0.9ms preprocess, 18.6ms inference, 0.4ms postprocess per image at shape (1, 3, 32, 640)\n",
            "Extracting features from test images...\n",
            "\n",
            "0: 32x640 3 roots, 18.4ms\n",
            "Speed: 1.6ms preprocess, 18.4ms inference, 1.7ms postprocess per image at shape (1, 3, 32, 640)\n",
            "\n",
            "0: 32x640 2 roots, 20.9ms\n",
            "Speed: 0.7ms preprocess, 20.9ms inference, 1.6ms postprocess per image at shape (1, 3, 32, 640)\n",
            "\n",
            "0: 32x640 2 roots, 27.1ms\n",
            "Speed: 0.7ms preprocess, 27.1ms inference, 2.5ms postprocess per image at shape (1, 3, 32, 640)\n",
            "\n",
            "0: 32x640 (no detections), 27.7ms\n",
            "Speed: 0.9ms preprocess, 27.7ms inference, 0.4ms postprocess per image at shape (1, 3, 32, 640)\n",
            "\n",
            "0: 32x640 (no detections), 26.3ms\n",
            "Speed: 1.2ms preprocess, 26.3ms inference, 0.5ms postprocess per image at shape (1, 3, 32, 640)\n",
            "\n",
            "0: 32x640 (no detections), 26.2ms\n",
            "Speed: 0.5ms preprocess, 26.2ms inference, 0.4ms postprocess per image at shape (1, 3, 32, 640)\n",
            "\n",
            "0: 32x640 1 root, 23.6ms\n",
            "Speed: 0.6ms preprocess, 23.6ms inference, 2.5ms postprocess per image at shape (1, 3, 32, 640)\n",
            "\n",
            "0: 32x640 (no detections), 24.9ms\n",
            "Speed: 0.5ms preprocess, 24.9ms inference, 0.6ms postprocess per image at shape (1, 3, 32, 640)\n",
            "\n",
            "0: 32x640 (no detections), 22.9ms\n",
            "Speed: 0.4ms preprocess, 22.9ms inference, 0.6ms postprocess per image at shape (1, 3, 32, 640)\n",
            "\n",
            "0: 32x640 (no detections), 24.5ms\n",
            "Speed: 0.6ms preprocess, 24.5ms inference, 0.4ms postprocess per image at shape (1, 3, 32, 640)\n",
            "\n",
            "0: 32x640 (no detections), 22.1ms\n",
            "Speed: 2.5ms preprocess, 22.1ms inference, 0.5ms postprocess per image at shape (1, 3, 32, 640)\n",
            "\n",
            "0: 32x640 (no detections), 25.8ms\n",
            "Speed: 1.0ms preprocess, 25.8ms inference, 0.7ms postprocess per image at shape (1, 3, 32, 640)\n",
            "\n",
            "0: 32x640 (no detections), 22.0ms\n",
            "Speed: 0.9ms preprocess, 22.0ms inference, 0.4ms postprocess per image at shape (1, 3, 32, 640)\n",
            "\n",
            "0: 32x640 (no detections), 17.8ms\n",
            "Speed: 0.4ms preprocess, 17.8ms inference, 0.4ms postprocess per image at shape (1, 3, 32, 640)\n",
            "\n",
            "0: 32x640 (no detections), 19.5ms\n",
            "Speed: 0.5ms preprocess, 19.5ms inference, 0.4ms postprocess per image at shape (1, 3, 32, 640)\n",
            "\n",
            "0: 32x640 (no detections), 20.0ms\n",
            "Speed: 0.4ms preprocess, 20.0ms inference, 0.4ms postprocess per image at shape (1, 3, 32, 640)\n",
            "\n",
            "0: 32x640 1 root, 18.9ms\n",
            "Speed: 0.6ms preprocess, 18.9ms inference, 1.7ms postprocess per image at shape (1, 3, 32, 640)\n",
            "\n",
            "0: 32x640 1 root, 21.3ms\n",
            "Speed: 1.0ms preprocess, 21.3ms inference, 1.6ms postprocess per image at shape (1, 3, 32, 640)\n",
            "\n",
            "0: 32x640 1 root, 27.1ms\n",
            "Speed: 0.4ms preprocess, 27.1ms inference, 1.6ms postprocess per image at shape (1, 3, 32, 640)\n",
            "\n",
            "0: 32x640 1 root, 17.3ms\n",
            "Speed: 0.6ms preprocess, 17.3ms inference, 1.5ms postprocess per image at shape (1, 3, 32, 640)\n",
            "\n",
            "0: 32x640 1 root, 16.8ms\n",
            "Speed: 1.7ms preprocess, 16.8ms inference, 1.6ms postprocess per image at shape (1, 3, 32, 640)\n",
            "\n",
            "0: 32x640 (no detections), 16.8ms\n",
            "Speed: 0.5ms preprocess, 16.8ms inference, 0.3ms postprocess per image at shape (1, 3, 32, 640)\n",
            "\n",
            "0: 32x640 (no detections), 18.1ms\n",
            "Speed: 0.4ms preprocess, 18.1ms inference, 0.4ms postprocess per image at shape (1, 3, 32, 640)\n",
            "\n",
            "0: 32x640 (no detections), 17.9ms\n",
            "Speed: 0.5ms preprocess, 17.9ms inference, 0.3ms postprocess per image at shape (1, 3, 32, 640)\n",
            "\n",
            "0: 32x640 (no detections), 17.1ms\n",
            "Speed: 0.6ms preprocess, 17.1ms inference, 0.3ms postprocess per image at shape (1, 3, 32, 640)\n",
            "\n",
            "0: 32x640 (no detections), 18.2ms\n",
            "Speed: 0.6ms preprocess, 18.2ms inference, 0.4ms postprocess per image at shape (1, 3, 32, 640)\n",
            "\n",
            "0: 32x640 (no detections), 18.9ms\n",
            "Speed: 0.5ms preprocess, 18.9ms inference, 0.3ms postprocess per image at shape (1, 3, 32, 640)\n",
            "\n",
            "0: 32x640 (no detections), 18.3ms\n",
            "Speed: 1.7ms preprocess, 18.3ms inference, 0.3ms postprocess per image at shape (1, 3, 32, 640)\n",
            "\n",
            "0: 32x640 (no detections), 20.2ms\n",
            "Speed: 0.5ms preprocess, 20.2ms inference, 0.3ms postprocess per image at shape (1, 3, 32, 640)\n",
            "\n",
            "0: 32x640 (no detections), 18.9ms\n",
            "Speed: 0.5ms preprocess, 18.9ms inference, 0.4ms postprocess per image at shape (1, 3, 32, 640)\n",
            "\n",
            "0: 32x640 (no detections), 18.8ms\n",
            "Speed: 0.5ms preprocess, 18.8ms inference, 0.4ms postprocess per image at shape (1, 3, 32, 640)\n",
            "\n",
            "0: 32x640 (no detections), 22.2ms\n",
            "Speed: 0.9ms preprocess, 22.2ms inference, 0.4ms postprocess per image at shape (1, 3, 32, 640)\n",
            "\n",
            "0: 32x640 (no detections), 25.1ms\n",
            "Speed: 0.5ms preprocess, 25.1ms inference, 0.4ms postprocess per image at shape (1, 3, 32, 640)\n",
            "\n",
            "0: 32x640 (no detections), 24.5ms\n",
            "Speed: 0.5ms preprocess, 24.5ms inference, 0.4ms postprocess per image at shape (1, 3, 32, 640)\n",
            "\n",
            "0: 32x640 (no detections), 25.4ms\n",
            "Speed: 0.5ms preprocess, 25.4ms inference, 0.4ms postprocess per image at shape (1, 3, 32, 640)\n",
            "\n",
            "0: 32x640 (no detections), 26.8ms\n",
            "Speed: 1.8ms preprocess, 26.8ms inference, 0.4ms postprocess per image at shape (1, 3, 32, 640)\n",
            "\n",
            "0: 32x640 (no detections), 27.3ms\n",
            "Speed: 0.5ms preprocess, 27.3ms inference, 0.6ms postprocess per image at shape (1, 3, 32, 640)\n",
            "\n",
            "0: 32x640 (no detections), 26.2ms\n",
            "Speed: 1.3ms preprocess, 26.2ms inference, 0.5ms postprocess per image at shape (1, 3, 32, 640)\n",
            "\n",
            "0: 32x640 (no detections), 25.5ms\n",
            "Speed: 0.5ms preprocess, 25.5ms inference, 0.4ms postprocess per image at shape (1, 3, 32, 640)\n",
            "\n",
            "0: 32x640 (no detections), 25.4ms\n",
            "Speed: 0.5ms preprocess, 25.4ms inference, 0.4ms postprocess per image at shape (1, 3, 32, 640)\n",
            "\n",
            "0: 32x640 (no detections), 27.6ms\n",
            "Speed: 0.9ms preprocess, 27.6ms inference, 0.5ms postprocess per image at shape (1, 3, 32, 640)\n",
            "\n",
            "0: 32x640 (no detections), 23.7ms\n",
            "Speed: 0.5ms preprocess, 23.7ms inference, 0.6ms postprocess per image at shape (1, 3, 32, 640)\n",
            "\n",
            "0: 32x640 (no detections), 21.4ms\n",
            "Speed: 0.5ms preprocess, 21.4ms inference, 0.4ms postprocess per image at shape (1, 3, 32, 640)\n",
            "\n",
            "0: 32x640 (no detections), 17.9ms\n",
            "Speed: 0.5ms preprocess, 17.9ms inference, 0.4ms postprocess per image at shape (1, 3, 32, 640)\n",
            "\n",
            "0: 32x640 (no detections), 18.2ms\n",
            "Speed: 0.5ms preprocess, 18.2ms inference, 0.4ms postprocess per image at shape (1, 3, 32, 640)\n",
            "\n",
            "0: 32x640 (no detections), 18.5ms\n",
            "Speed: 1.5ms preprocess, 18.5ms inference, 0.4ms postprocess per image at shape (1, 3, 32, 640)\n",
            "\n",
            "0: 32x640 (no detections), 17.3ms\n",
            "Speed: 0.4ms preprocess, 17.3ms inference, 0.4ms postprocess per image at shape (1, 3, 32, 640)\n",
            "\n",
            "0: 32x640 (no detections), 22.7ms\n",
            "Speed: 0.7ms preprocess, 22.7ms inference, 0.6ms postprocess per image at shape (1, 3, 32, 640)\n",
            "\n",
            "0: 32x640 (no detections), 22.6ms\n",
            "Speed: 0.6ms preprocess, 22.6ms inference, 0.5ms postprocess per image at shape (1, 3, 32, 640)\n",
            "\n",
            "0: 32x640 (no detections), 17.6ms\n",
            "Speed: 1.5ms preprocess, 17.6ms inference, 0.4ms postprocess per image at shape (1, 3, 32, 640)\n",
            "\n",
            "0: 32x640 (no detections), 18.8ms\n",
            "Speed: 0.9ms preprocess, 18.8ms inference, 0.4ms postprocess per image at shape (1, 3, 32, 640)\n",
            "\n",
            "0: 32x640 (no detections), 19.4ms\n",
            "Speed: 1.0ms preprocess, 19.4ms inference, 0.4ms postprocess per image at shape (1, 3, 32, 640)\n",
            "\n",
            "0: 32x640 (no detections), 19.1ms\n",
            "Speed: 1.2ms preprocess, 19.1ms inference, 0.3ms postprocess per image at shape (1, 3, 32, 640)\n",
            "\n",
            "0: 32x640 (no detections), 18.2ms\n",
            "Speed: 0.5ms preprocess, 18.2ms inference, 0.4ms postprocess per image at shape (1, 3, 32, 640)\n",
            "\n",
            "0: 32x640 (no detections), 18.4ms\n",
            "Speed: 0.5ms preprocess, 18.4ms inference, 0.4ms postprocess per image at shape (1, 3, 32, 640)\n",
            "\n",
            "0: 32x640 (no detections), 19.9ms\n",
            "Speed: 0.6ms preprocess, 19.9ms inference, 0.5ms postprocess per image at shape (1, 3, 32, 640)\n",
            "\n",
            "0: 32x640 (no detections), 17.8ms\n",
            "Speed: 1.4ms preprocess, 17.8ms inference, 0.4ms postprocess per image at shape (1, 3, 32, 640)\n",
            "\n",
            "0: 32x640 (no detections), 18.9ms\n",
            "Speed: 0.4ms preprocess, 18.9ms inference, 0.3ms postprocess per image at shape (1, 3, 32, 640)\n",
            "\n",
            "0: 32x640 (no detections), 18.8ms\n",
            "Speed: 0.9ms preprocess, 18.8ms inference, 0.3ms postprocess per image at shape (1, 3, 32, 640)\n",
            "\n",
            "0: 32x640 (no detections), 17.4ms\n",
            "Speed: 0.4ms preprocess, 17.4ms inference, 0.4ms postprocess per image at shape (1, 3, 32, 640)\n",
            "\n",
            "0: 32x640 (no detections), 23.8ms\n",
            "Speed: 0.7ms preprocess, 23.8ms inference, 0.4ms postprocess per image at shape (1, 3, 32, 640)\n",
            "\n",
            "0: 32x640 (no detections), 26.4ms\n",
            "Speed: 0.8ms preprocess, 26.4ms inference, 0.5ms postprocess per image at shape (1, 3, 32, 640)\n",
            "\n",
            "0: 32x640 (no detections), 25.7ms\n",
            "Speed: 0.4ms preprocess, 25.7ms inference, 0.6ms postprocess per image at shape (1, 3, 32, 640)\n",
            "\n",
            "0: 32x640 (no detections), 23.3ms\n",
            "Speed: 0.7ms preprocess, 23.3ms inference, 0.5ms postprocess per image at shape (1, 3, 32, 640)\n",
            "\n",
            "0: 32x640 (no detections), 25.2ms\n",
            "Speed: 0.5ms preprocess, 25.2ms inference, 0.4ms postprocess per image at shape (1, 3, 32, 640)\n",
            "\n",
            "0: 32x640 (no detections), 26.2ms\n",
            "Speed: 0.5ms preprocess, 26.2ms inference, 0.4ms postprocess per image at shape (1, 3, 32, 640)\n",
            "\n",
            "0: 32x640 (no detections), 26.3ms\n",
            "Speed: 0.7ms preprocess, 26.3ms inference, 0.5ms postprocess per image at shape (1, 3, 32, 640)\n",
            "\n",
            "0: 32x640 (no detections), 25.5ms\n",
            "Speed: 1.6ms preprocess, 25.5ms inference, 0.4ms postprocess per image at shape (1, 3, 32, 640)\n",
            "\n",
            "0: 32x640 (no detections), 25.4ms\n",
            "Speed: 0.9ms preprocess, 25.4ms inference, 0.5ms postprocess per image at shape (1, 3, 32, 640)\n",
            "\n",
            "0: 32x640 (no detections), 26.4ms\n",
            "Speed: 2.6ms preprocess, 26.4ms inference, 0.6ms postprocess per image at shape (1, 3, 32, 640)\n",
            "\n",
            "0: 32x640 (no detections), 19.0ms\n",
            "Speed: 0.8ms preprocess, 19.0ms inference, 0.4ms postprocess per image at shape (1, 3, 32, 640)\n",
            "\n",
            "0: 32x640 (no detections), 17.7ms\n",
            "Speed: 1.2ms preprocess, 17.7ms inference, 0.4ms postprocess per image at shape (1, 3, 32, 640)\n",
            "\n",
            "0: 32x640 (no detections), 18.6ms\n",
            "Speed: 0.7ms preprocess, 18.6ms inference, 0.4ms postprocess per image at shape (1, 3, 32, 640)\n",
            "\n",
            "0: 32x640 (no detections), 18.3ms\n",
            "Speed: 0.5ms preprocess, 18.3ms inference, 0.5ms postprocess per image at shape (1, 3, 32, 640)\n",
            "\n",
            "0: 32x640 (no detections), 19.3ms\n",
            "Speed: 0.5ms preprocess, 19.3ms inference, 0.4ms postprocess per image at shape (1, 3, 32, 640)\n",
            "\n",
            "0: 32x640 (no detections), 17.5ms\n",
            "Speed: 1.3ms preprocess, 17.5ms inference, 0.4ms postprocess per image at shape (1, 3, 32, 640)\n",
            "\n",
            "0: 32x640 (no detections), 19.1ms\n",
            "Speed: 0.5ms preprocess, 19.1ms inference, 0.4ms postprocess per image at shape (1, 3, 32, 640)\n",
            "\n",
            "0: 32x640 (no detections), 28.6ms\n",
            "Speed: 0.7ms preprocess, 28.6ms inference, 0.8ms postprocess per image at shape (1, 3, 32, 640)\n",
            "\n",
            "0: 32x640 (no detections), 19.4ms\n",
            "Speed: 0.5ms preprocess, 19.4ms inference, 0.5ms postprocess per image at shape (1, 3, 32, 640)\n",
            "\n",
            "0: 32x640 (no detections), 19.6ms\n",
            "Speed: 0.8ms preprocess, 19.6ms inference, 0.4ms postprocess per image at shape (1, 3, 32, 640)\n",
            "\n",
            "0: 32x640 (no detections), 19.5ms\n",
            "Speed: 0.8ms preprocess, 19.5ms inference, 0.4ms postprocess per image at shape (1, 3, 32, 640)\n",
            "\n",
            "0: 32x640 (no detections), 20.1ms\n",
            "Speed: 0.9ms preprocess, 20.1ms inference, 0.4ms postprocess per image at shape (1, 3, 32, 640)\n",
            "\n",
            "0: 32x640 1 root, 18.6ms\n",
            "Speed: 1.2ms preprocess, 18.6ms inference, 1.7ms postprocess per image at shape (1, 3, 32, 640)\n",
            "\n",
            "0: 32x640 2 roots, 19.0ms\n",
            "Speed: 0.8ms preprocess, 19.0ms inference, 1.7ms postprocess per image at shape (1, 3, 32, 640)\n",
            "\n",
            "0: 32x640 2 roots, 22.0ms\n",
            "Speed: 0.6ms preprocess, 22.0ms inference, 1.7ms postprocess per image at shape (1, 3, 32, 640)\n",
            "\n",
            "0: 32x640 1 root, 19.1ms\n",
            "Speed: 1.2ms preprocess, 19.1ms inference, 1.8ms postprocess per image at shape (1, 3, 32, 640)\n",
            "\n",
            "0: 32x640 (no detections), 19.5ms\n",
            "Speed: 0.8ms preprocess, 19.5ms inference, 0.4ms postprocess per image at shape (1, 3, 32, 640)\n",
            "\n",
            "0: 32x640 2 roots, 19.1ms\n",
            "Speed: 0.8ms preprocess, 19.1ms inference, 1.8ms postprocess per image at shape (1, 3, 32, 640)\n",
            "\n",
            "0: 32x640 3 roots, 28.3ms\n",
            "Speed: 0.6ms preprocess, 28.3ms inference, 2.2ms postprocess per image at shape (1, 3, 32, 640)\n",
            "\n",
            "0: 32x640 2 roots, 30.6ms\n",
            "Speed: 0.8ms preprocess, 30.6ms inference, 2.1ms postprocess per image at shape (1, 3, 32, 640)\n",
            "\n",
            "0: 32x640 1 root, 24.8ms\n",
            "Speed: 0.7ms preprocess, 24.8ms inference, 2.1ms postprocess per image at shape (1, 3, 32, 640)\n",
            "\n",
            "0: 32x640 1 root, 24.7ms\n",
            "Speed: 0.5ms preprocess, 24.7ms inference, 2.1ms postprocess per image at shape (1, 3, 32, 640)\n",
            "\n",
            "0: 32x640 (no detections), 24.7ms\n",
            "Speed: 1.2ms preprocess, 24.7ms inference, 0.6ms postprocess per image at shape (1, 3, 32, 640)\n",
            "\n",
            "0: 32x640 (no detections), 25.4ms\n",
            "Speed: 0.7ms preprocess, 25.4ms inference, 0.6ms postprocess per image at shape (1, 3, 32, 640)\n",
            "\n",
            "0: 32x640 (no detections), 23.3ms\n",
            "Speed: 0.9ms preprocess, 23.3ms inference, 0.5ms postprocess per image at shape (1, 3, 32, 640)\n",
            "\n",
            "0: 32x640 (no detections), 26.2ms\n",
            "Speed: 0.7ms preprocess, 26.2ms inference, 0.5ms postprocess per image at shape (1, 3, 32, 640)\n",
            "\n",
            "0: 32x640 (no detections), 25.1ms\n",
            "Speed: 0.7ms preprocess, 25.1ms inference, 0.6ms postprocess per image at shape (1, 3, 32, 640)\n",
            "\n",
            "0: 32x640 (no detections), 24.8ms\n",
            "Speed: 3.1ms preprocess, 24.8ms inference, 0.5ms postprocess per image at shape (1, 3, 32, 640)\n",
            "\n",
            "0: 32x640 (no detections), 29.4ms\n",
            "Speed: 0.7ms preprocess, 29.4ms inference, 0.5ms postprocess per image at shape (1, 3, 32, 640)\n",
            "\n",
            "0: 32x640 (no detections), 23.3ms\n",
            "Speed: 1.0ms preprocess, 23.3ms inference, 0.4ms postprocess per image at shape (1, 3, 32, 640)\n",
            "\n",
            "0: 32x640 1 root, 19.2ms\n",
            "Speed: 0.5ms preprocess, 19.2ms inference, 1.7ms postprocess per image at shape (1, 3, 32, 640)\n",
            "\n",
            "0: 32x640 (no detections), 19.5ms\n",
            "Speed: 1.2ms preprocess, 19.5ms inference, 0.4ms postprocess per image at shape (1, 3, 32, 640)\n",
            "\n",
            "0: 32x640 (no detections), 19.1ms\n",
            "Speed: 0.5ms preprocess, 19.1ms inference, 0.4ms postprocess per image at shape (1, 3, 32, 640)\n",
            "\n",
            "0: 32x640 (no detections), 19.1ms\n",
            "Speed: 1.7ms preprocess, 19.1ms inference, 0.4ms postprocess per image at shape (1, 3, 32, 640)\n",
            "\n",
            "0: 32x640 (no detections), 17.8ms\n",
            "Speed: 0.4ms preprocess, 17.8ms inference, 0.4ms postprocess per image at shape (1, 3, 32, 640)\n",
            "\n",
            "0: 32x640 (no detections), 25.9ms\n",
            "Speed: 1.2ms preprocess, 25.9ms inference, 0.6ms postprocess per image at shape (1, 3, 32, 640)\n",
            "\n",
            "0: 32x640 (no detections), 19.0ms\n",
            "Speed: 1.2ms preprocess, 19.0ms inference, 0.4ms postprocess per image at shape (1, 3, 32, 640)\n",
            "\n",
            "0: 32x640 (no detections), 20.6ms\n",
            "Speed: 0.5ms preprocess, 20.6ms inference, 0.6ms postprocess per image at shape (1, 3, 32, 640)\n",
            "\n",
            "0: 32x640 (no detections), 17.7ms\n",
            "Speed: 0.5ms preprocess, 17.7ms inference, 0.4ms postprocess per image at shape (1, 3, 32, 640)\n",
            "\n",
            "0: 32x640 (no detections), 18.1ms\n",
            "Speed: 1.8ms preprocess, 18.1ms inference, 0.4ms postprocess per image at shape (1, 3, 32, 640)\n",
            "\n",
            "0: 32x640 (no detections), 19.6ms\n",
            "Speed: 1.7ms preprocess, 19.6ms inference, 0.4ms postprocess per image at shape (1, 3, 32, 640)\n",
            "\n",
            "0: 32x640 (no detections), 19.1ms\n",
            "Speed: 0.5ms preprocess, 19.1ms inference, 0.4ms postprocess per image at shape (1, 3, 32, 640)\n",
            "\n",
            "0: 32x640 (no detections), 18.9ms\n",
            "Speed: 0.5ms preprocess, 18.9ms inference, 0.4ms postprocess per image at shape (1, 3, 32, 640)\n",
            "\n",
            "0: 32x640 (no detections), 21.6ms\n",
            "Speed: 1.0ms preprocess, 21.6ms inference, 0.4ms postprocess per image at shape (1, 3, 32, 640)\n",
            "\n",
            "0: 32x640 (no detections), 18.5ms\n",
            "Speed: 0.5ms preprocess, 18.5ms inference, 0.4ms postprocess per image at shape (1, 3, 32, 640)\n",
            "\n",
            "0: 32x640 (no detections), 18.2ms\n",
            "Speed: 0.5ms preprocess, 18.2ms inference, 0.4ms postprocess per image at shape (1, 3, 32, 640)\n",
            "\n",
            "0: 32x640 (no detections), 26.4ms\n",
            "Speed: 0.6ms preprocess, 26.4ms inference, 0.6ms postprocess per image at shape (1, 3, 32, 640)\n",
            "\n",
            "0: 32x640 (no detections), 24.9ms\n",
            "Speed: 0.6ms preprocess, 24.9ms inference, 0.4ms postprocess per image at shape (1, 3, 32, 640)\n",
            "\n",
            "0: 32x640 (no detections), 27.2ms\n",
            "Speed: 0.5ms preprocess, 27.2ms inference, 0.5ms postprocess per image at shape (1, 3, 32, 640)\n",
            "\n",
            "0: 32x640 (no detections), 24.9ms\n",
            "Speed: 0.6ms preprocess, 24.9ms inference, 0.7ms postprocess per image at shape (1, 3, 32, 640)\n",
            "\n",
            "0: 32x640 (no detections), 25.9ms\n",
            "Speed: 0.6ms preprocess, 25.9ms inference, 0.5ms postprocess per image at shape (1, 3, 32, 640)\n",
            "\n",
            "0: 32x640 (no detections), 27.2ms\n",
            "Speed: 0.5ms preprocess, 27.2ms inference, 0.5ms postprocess per image at shape (1, 3, 32, 640)\n",
            "\n",
            "0: 32x640 (no detections), 24.6ms\n",
            "Speed: 1.4ms preprocess, 24.6ms inference, 0.6ms postprocess per image at shape (1, 3, 32, 640)\n",
            "\n",
            "0: 32x640 (no detections), 26.4ms\n",
            "Speed: 1.6ms preprocess, 26.4ms inference, 0.6ms postprocess per image at shape (1, 3, 32, 640)\n",
            "\n",
            "0: 32x640 (no detections), 26.6ms\n",
            "Speed: 0.6ms preprocess, 26.6ms inference, 0.5ms postprocess per image at shape (1, 3, 32, 640)\n",
            "\n",
            "0: 32x640 (no detections), 18.6ms\n",
            "Speed: 1.6ms preprocess, 18.6ms inference, 0.4ms postprocess per image at shape (1, 3, 32, 640)\n",
            "\n",
            "0: 32x640 (no detections), 18.5ms\n",
            "Speed: 1.7ms preprocess, 18.5ms inference, 0.4ms postprocess per image at shape (1, 3, 32, 640)\n",
            "\n",
            "0: 32x640 (no detections), 19.4ms\n",
            "Speed: 0.9ms preprocess, 19.4ms inference, 0.4ms postprocess per image at shape (1, 3, 32, 640)\n",
            "\n",
            "0: 32x640 (no detections), 18.9ms\n",
            "Speed: 0.5ms preprocess, 18.9ms inference, 0.4ms postprocess per image at shape (1, 3, 32, 640)\n",
            "\n",
            "0: 32x640 (no detections), 18.6ms\n",
            "Speed: 0.7ms preprocess, 18.6ms inference, 0.4ms postprocess per image at shape (1, 3, 32, 640)\n",
            "\n",
            "0: 32x640 (no detections), 19.3ms\n",
            "Speed: 0.7ms preprocess, 19.3ms inference, 0.4ms postprocess per image at shape (1, 3, 32, 640)\n",
            "\n",
            "0: 32x640 (no detections), 19.0ms\n",
            "Speed: 0.5ms preprocess, 19.0ms inference, 0.4ms postprocess per image at shape (1, 3, 32, 640)\n",
            "\n",
            "0: 32x640 (no detections), 21.9ms\n",
            "Speed: 0.5ms preprocess, 21.9ms inference, 0.4ms postprocess per image at shape (1, 3, 32, 640)\n",
            "\n",
            "0: 32x640 (no detections), 18.6ms\n",
            "Speed: 0.6ms preprocess, 18.6ms inference, 0.4ms postprocess per image at shape (1, 3, 32, 640)\n",
            "\n",
            "0: 32x640 (no detections), 18.1ms\n",
            "Speed: 1.6ms preprocess, 18.1ms inference, 0.4ms postprocess per image at shape (1, 3, 32, 640)\n",
            "\n",
            "0: 32x640 (no detections), 30.4ms\n",
            "Speed: 0.5ms preprocess, 30.4ms inference, 0.4ms postprocess per image at shape (1, 3, 32, 640)\n",
            "\n",
            "0: 32x640 (no detections), 17.7ms\n",
            "Speed: 0.5ms preprocess, 17.7ms inference, 0.4ms postprocess per image at shape (1, 3, 32, 640)\n",
            "\n",
            "0: 32x640 (no detections), 18.0ms\n",
            "Speed: 1.2ms preprocess, 18.0ms inference, 0.4ms postprocess per image at shape (1, 3, 32, 640)\n",
            "\n",
            "0: 32x640 (no detections), 18.4ms\n",
            "Speed: 0.4ms preprocess, 18.4ms inference, 0.5ms postprocess per image at shape (1, 3, 32, 640)\n",
            "\n",
            "0: 32x640 (no detections), 18.0ms\n",
            "Speed: 1.1ms preprocess, 18.0ms inference, 0.4ms postprocess per image at shape (1, 3, 32, 640)\n",
            "\n",
            "0: 32x640 (no detections), 19.0ms\n",
            "Speed: 0.7ms preprocess, 19.0ms inference, 0.3ms postprocess per image at shape (1, 3, 32, 640)\n",
            "\n",
            "0: 32x640 (no detections), 19.0ms\n",
            "Speed: 0.4ms preprocess, 19.0ms inference, 0.4ms postprocess per image at shape (1, 3, 32, 640)\n",
            "\n",
            "0: 32x640 (no detections), 21.3ms\n",
            "Speed: 1.4ms preprocess, 21.3ms inference, 0.4ms postprocess per image at shape (1, 3, 32, 640)\n",
            "\n",
            "0: 32x640 (no detections), 17.7ms\n",
            "Speed: 0.4ms preprocess, 17.7ms inference, 0.3ms postprocess per image at shape (1, 3, 32, 640)\n",
            "\n",
            "0: 32x640 (no detections), 18.9ms\n",
            "Speed: 1.3ms preprocess, 18.9ms inference, 0.4ms postprocess per image at shape (1, 3, 32, 640)\n",
            "\n",
            "0: 32x640 (no detections), 24.8ms\n",
            "Speed: 0.6ms preprocess, 24.8ms inference, 0.5ms postprocess per image at shape (1, 3, 32, 640)\n",
            "\n",
            "0: 32x640 (no detections), 26.6ms\n",
            "Speed: 0.4ms preprocess, 26.6ms inference, 0.3ms postprocess per image at shape (1, 3, 32, 640)\n",
            "\n",
            "0: 32x640 (no detections), 26.0ms\n",
            "Speed: 0.6ms preprocess, 26.0ms inference, 0.4ms postprocess per image at shape (1, 3, 32, 640)\n",
            "\n",
            "0: 32x640 (no detections), 25.1ms\n",
            "Speed: 0.5ms preprocess, 25.1ms inference, 0.5ms postprocess per image at shape (1, 3, 32, 640)\n",
            "\n",
            "0: 32x640 (no detections), 29.2ms\n",
            "Speed: 0.6ms preprocess, 29.2ms inference, 0.4ms postprocess per image at shape (1, 3, 32, 640)\n",
            "\n",
            "0: 32x640 (no detections), 26.6ms\n",
            "Speed: 0.7ms preprocess, 26.6ms inference, 0.6ms postprocess per image at shape (1, 3, 32, 640)\n",
            "\n",
            "0: 32x640 (no detections), 24.7ms\n",
            "Speed: 0.5ms preprocess, 24.7ms inference, 0.5ms postprocess per image at shape (1, 3, 32, 640)\n",
            "\n",
            "0: 32x640 (no detections), 25.4ms\n",
            "Speed: 0.5ms preprocess, 25.4ms inference, 0.4ms postprocess per image at shape (1, 3, 32, 640)\n",
            "\n",
            "0: 32x640 (no detections), 24.6ms\n",
            "Speed: 0.4ms preprocess, 24.6ms inference, 0.4ms postprocess per image at shape (1, 3, 32, 640)\n",
            "\n",
            "0: 32x640 (no detections), 26.7ms\n",
            "Speed: 0.6ms preprocess, 26.7ms inference, 0.5ms postprocess per image at shape (1, 3, 32, 640)\n",
            "\n",
            "0: 32x640 (no detections), 24.6ms\n",
            "Speed: 0.6ms preprocess, 24.6ms inference, 0.5ms postprocess per image at shape (1, 3, 32, 640)\n",
            "\n",
            "0: 32x640 (no detections), 19.7ms\n",
            "Speed: 1.2ms preprocess, 19.7ms inference, 0.4ms postprocess per image at shape (1, 3, 32, 640)\n",
            "\n",
            "0: 32x640 (no detections), 22.2ms\n",
            "Speed: 0.6ms preprocess, 22.2ms inference, 0.4ms postprocess per image at shape (1, 3, 32, 640)\n",
            "\n",
            "0: 32x640 (no detections), 19.4ms\n",
            "Speed: 0.4ms preprocess, 19.4ms inference, 0.4ms postprocess per image at shape (1, 3, 32, 640)\n",
            "\n",
            "0: 32x640 (no detections), 17.8ms\n",
            "Speed: 1.1ms preprocess, 17.8ms inference, 0.4ms postprocess per image at shape (1, 3, 32, 640)\n",
            "\n",
            "0: 32x640 (no detections), 18.7ms\n",
            "Speed: 1.2ms preprocess, 18.7ms inference, 0.4ms postprocess per image at shape (1, 3, 32, 640)\n",
            "\n",
            "0: 32x640 (no detections), 18.9ms\n",
            "Speed: 0.5ms preprocess, 18.9ms inference, 0.4ms postprocess per image at shape (1, 3, 32, 640)\n",
            "\n",
            "0: 32x640 (no detections), 18.5ms\n",
            "Speed: 0.5ms preprocess, 18.5ms inference, 0.4ms postprocess per image at shape (1, 3, 32, 640)\n",
            "\n",
            "0: 32x640 (no detections), 19.2ms\n",
            "Speed: 0.4ms preprocess, 19.2ms inference, 0.4ms postprocess per image at shape (1, 3, 32, 640)\n"
          ]
        }
      ]
    },
    {
      "cell_type": "markdown",
      "source": [
        "# Sort, Filter and Merge Training Data"
      ],
      "metadata": {
        "id": "4NZF8w_9yVd4"
      }
    },
    {
      "cell_type": "code",
      "source": [
        "# ✅ Load Training Labels\n",
        "train_labels = pd.read_csv(train_label_path)\n",
        "\n",
        "# ✅ Remove duplicate column names if present\n",
        "train_labels = train_labels.loc[:, ~train_labels.columns.duplicated()]\n",
        "\n",
        "# ✅ Rename 'FolderName' to 'image_id' to match extracted features\n",
        "train_labels.rename(columns={'FolderName': 'image_id'}, inplace=True)\n",
        "\n",
        "# ✅ Ensure 'image_id' is unique before merging\n",
        "train_labels = train_labels.drop_duplicates(subset=[\"image_id\"])\n",
        "\n",
        "# ✅ Print train_labels sample\n",
        "print(\"Sample train_labels after renaming:\")\n",
        "print(train_labels.head())\n",
        "\n",
        "# ✅ Merge Features with Labels\n",
        "train_data = pd.merge(train_features, train_labels, on=\"image_id\", how=\"inner\")\n",
        "\n",
        "# ✅ Check if merging was successful\n",
        "print(f\"✅ Matching IDs after fix: {len(train_data)}\")\n"
      ],
      "metadata": {
        "colab": {
          "base_uri": "https://localhost:8080/"
        },
        "id": "zJqlq7OM86lM",
        "outputId": "56938f98-5656-405f-d4bd-6fbba3cdd3f6"
      },
      "execution_count": null,
      "outputs": [
        {
          "output_type": "stream",
          "name": "stdout",
          "text": [
            "Sample train_labels after renaming:\n",
            "                 ID    image_id  PlantNumber Side  Start  End  RootVolume  \\\n",
            "0  ID_826322_Lbmaya  A6dzrkjqvl            3    L     33   42         0.9   \n",
            "1  ID_718181_Bslpwx  Ypktwvqjbn            7    L     33   41         1.5   \n",
            "2  ID_465762_L1n61d  Ox18ob0syv            4    R     21   28         2.7   \n",
            "3  ID_626872_Pbmx2e  Hqcekwpxgu            2    R     30   39         2.6   \n",
            "4  ID_518846_Opko8c  Ummqfuetoc            1    R     17   26         2.7   \n",
            "\n",
            "             Genotype  Stage  \n",
            "0  IITA-TMS-IBA000070  Early  \n",
            "1           IBA154810  Early  \n",
            "2           IBA980581  Early  \n",
            "3  IITA-TMS-IBA000070  Early  \n",
            "4           IBA980581  Early  \n",
            "✅ Matching IDs after fix: 0\n"
          ]
        }
      ]
    },
    {
      "cell_type": "code",
      "source": [
        "print(\"Unique image_id in train_features:\", train_features[\"image_id\"].nunique())\n",
        "print(\"Unique image_id in train_labels:\", train_labels[\"image_id\"].nunique())\n",
        "\n",
        "print(\"Matching IDs before merging:\", len(set(train_labels[\"image_id\"]).intersection(set(train_features[\"image_id\"]))))\n"
      ],
      "metadata": {
        "colab": {
          "base_uri": "https://localhost:8080/"
        },
        "id": "pki1IMXo9B58",
        "outputId": "99097893-a07b-4168-8e94-a721fa4c72df"
      },
      "execution_count": null,
      "outputs": [
        {
          "output_type": "stream",
          "name": "stdout",
          "text": [
            "Unique image_id in train_features: 164\n",
            "Unique image_id in train_labels: 98\n",
            "Matching IDs before merging: 0\n"
          ]
        }
      ]
    },
    {
      "cell_type": "code",
      "source": [
        "print(\"Sample image_id in train_features:\")\n",
        "print(train_features[\"image_id\"].unique()[:5])  # First 5 unique IDs\n",
        "\n",
        "print(\"Sample image_id in train_labels:\")\n",
        "print(train_labels[\"image_id\"].unique()[:5])  # First 5 unique IDs\n"
      ],
      "metadata": {
        "colab": {
          "base_uri": "https://localhost:8080/"
        },
        "id": "swoezTPt9Q3D",
        "outputId": "33c85e6a-8ce8-4a12-be4b-b65d37abf8da"
      },
      "execution_count": null,
      "outputs": [
        {
          "output_type": "stream",
          "name": "stdout",
          "text": [
            "Sample image_id in train_features:\n",
            "['A6dzrkjqvl_L_001.png' 'A6dzrkjqvl_L_002.png' 'A6dzrkjqvl_L_003.png' 'A6dzrkjqvl_L_004.png' 'A6dzrkjqvl_L_005.png']\n",
            "Sample image_id in train_labels:\n",
            "['A6dzrkjqvl' 'Ypktwvqjbn' 'Ox18ob0syv' 'Hqcekwpxgu' 'Ummqfuetoc']\n"
          ]
        }
      ]
    },
    {
      "cell_type": "code",
      "source": [
        "import re\n",
        "\n",
        "# ✅ Extract only Folder Name by removing `_L_###` and the file extension\n",
        "train_features[\"image_id\"] = train_features[\"image_id\"].apply(lambda x: re.sub(r\"_L_\\d+\", \"\", x))\n",
        "\n",
        "# ✅ Convert to lowercase to avoid case mismatches\n",
        "train_features[\"image_id\"] = train_features[\"image_id\"].str.lower()\n",
        "train_labels[\"image_id\"] = train_labels[\"image_id\"].str.lower()\n",
        "\n",
        "# ✅ Check if IDs match after fix\n",
        "print(\"Matching IDs after fix:\", len(set(train_labels[\"image_id\"]).intersection(set(train_features[\"image_id\"]))))\n"
      ],
      "metadata": {
        "colab": {
          "base_uri": "https://localhost:8080/"
        },
        "id": "7RtU9gcF9jS6",
        "outputId": "6f5dce8f-9b73-4d8d-814d-c0b12354242c"
      },
      "execution_count": null,
      "outputs": [
        {
          "output_type": "stream",
          "name": "stdout",
          "text": [
            "Matching IDs after fix: 0\n"
          ]
        }
      ]
    },
    {
      "cell_type": "code",
      "source": [
        "import re\n",
        "\n",
        "# ✅ Remove \"_R_###\" and file extensions from image_id\n",
        "train_features[\"image_id\"] = train_features[\"image_id\"].apply(lambda x: re.sub(r\"_r_\\d+\", \"\", x))\n",
        "train_features[\"image_id\"] = train_features[\"image_id\"].apply(lambda x: os.path.splitext(x)[0])  # Remove .png/.jpg extensions\n",
        "\n",
        "# ✅ Convert to lowercase to ensure consistency\n",
        "train_features[\"image_id\"] = train_features[\"image_id\"].str.lower()\n",
        "train_labels[\"image_id\"] = train_labels[\"image_id\"].str.lower()\n",
        "\n",
        "# ✅ Check if IDs match after fix\n",
        "print(\"Fixed train_features image_id (after removing _R_###):\")\n",
        "print(train_features[\"image_id\"].unique()[:10])\n",
        "\n",
        "print(\"Fixed train_labels image_id:\")\n",
        "print(train_labels[\"image_id\"].unique()[:10])\n"
      ],
      "metadata": {
        "colab": {
          "base_uri": "https://localhost:8080/"
        },
        "id": "zGOzcXUjfYJ0",
        "outputId": "09ca1501-7a3f-446d-bfd9-d0b49083f60c"
      },
      "execution_count": null,
      "outputs": [
        {
          "output_type": "stream",
          "name": "stdout",
          "text": [
            "Fixed train_features image_id (after removing _R_###):\n",
            "['a6dzrkjqvl']\n",
            "Fixed train_labels image_id:\n",
            "['a6dzrkjqvl' 'ypktwvqjbn' 'ox18ob0syv' 'hqcekwpxgu' 'ummqfuetoc' 'b5myqsh1wi' 'l8w7zu7wek' 'izbgyxre0g' 'vinlgebupo' 'hc3b9gicdo']\n"
          ]
        }
      ]
    },
    {
      "cell_type": "code",
      "source": [
        "print(\"Unique image_id in train_features:\", train_features[\"image_id\"].nunique())\n",
        "print(\"Unique image_id in train_labels:\", train_labels[\"image_id\"].nunique())\n",
        "\n",
        "# ✅ Confirm how many IDs match\n",
        "matching_ids = len(set(train_labels[\"image_id\"]).intersection(set(train_features[\"image_id\"])))\n",
        "print(f\"✅ Matching IDs after fix: {matching_ids}\")\n"
      ],
      "metadata": {
        "colab": {
          "base_uri": "https://localhost:8080/"
        },
        "id": "_MEIw0ZPjXV8",
        "outputId": "8e9c3fce-16cd-4965-8154-8450385b60a0"
      },
      "execution_count": null,
      "outputs": [
        {
          "output_type": "stream",
          "name": "stdout",
          "text": [
            "Unique image_id in train_features: 1\n",
            "Unique image_id in train_labels: 98\n",
            "✅ Matching IDs after fix: 1\n"
          ]
        }
      ]
    },
    {
      "cell_type": "code",
      "source": [
        "# ✅ Filter train_labels to include only 'a6dzrkjqvl'\n",
        "train_labels = train_labels[train_labels[\"image_id\"] == \"a6dzrkjqvl\"]\n",
        "\n",
        "# ✅ Print to confirm the filtering\n",
        "print(\"Filtered train_labels:\")\n",
        "print(train_labels.head())\n"
      ],
      "metadata": {
        "colab": {
          "base_uri": "https://localhost:8080/"
        },
        "id": "bxUDUy1wv5uP",
        "outputId": "117e2bd6-9630-4801-c7a6-c64938ef7ff4"
      },
      "execution_count": null,
      "outputs": [
        {
          "output_type": "stream",
          "name": "stdout",
          "text": [
            "Filtered train_labels:\n",
            "                 ID    image_id  PlantNumber Side  Start  End  RootVolume  \\\n",
            "0  ID_826322_Lbmaya  a6dzrkjqvl            3    L     33   42         0.9   \n",
            "\n",
            "             Genotype  Stage  \n",
            "0  IITA-TMS-IBA000070  Early  \n"
          ]
        }
      ]
    },
    {
      "cell_type": "code",
      "source": [
        "# ✅ Check if IDs match\n",
        "matching_ids = len(set(train_labels[\"image_id\"]).intersection(set(train_features[\"image_id\"])))\n",
        "print(f\"✅ Matching IDs after filtering: {matching_ids}\")\n"
      ],
      "metadata": {
        "colab": {
          "base_uri": "https://localhost:8080/"
        },
        "id": "tH4r8euBw4_J",
        "outputId": "bba4f7c6-f7af-4559-991c-4960bfc79b0f"
      },
      "execution_count": null,
      "outputs": [
        {
          "output_type": "stream",
          "name": "stdout",
          "text": [
            "✅ Matching IDs after filtering: 1\n"
          ]
        }
      ]
    },
    {
      "cell_type": "code",
      "source": [
        "# ✅ Merge filtered data\n",
        "train_data = pd.merge(train_features, train_labels, on=\"image_id\", how=\"inner\")\n",
        "\n",
        "# ✅ Print merge success message\n",
        "print(f\"✅ Successfully merged {len(train_data)} records for folder 'a6dzrkjqvl'.\")\n"
      ],
      "metadata": {
        "colab": {
          "base_uri": "https://localhost:8080/"
        },
        "id": "jke0Gk7nwAk6",
        "outputId": "e3854b39-80b5-41bd-ce2c-797b46e2f88f"
      },
      "execution_count": null,
      "outputs": [
        {
          "output_type": "stream",
          "name": "stdout",
          "text": [
            "✅ Successfully merged 164 records for folder 'a6dzrkjqvl'.\n"
          ]
        }
      ]
    },
    {
      "cell_type": "code",
      "source": [
        "# ✅ Select feature columns for training\n",
        "X = train_data[[\"num_detections\", \"total_area\", \"avg_size\"]]\n",
        "\n",
        "# ✅ Target variable (RootVolume)\n",
        "y = train_data[\"RootVolume\"]\n",
        "\n",
        "# ✅ Print dataset shapes\n",
        "print(f\"Features shape: {X.shape}, Target shape: {y.shape}\")\n"
      ],
      "metadata": {
        "colab": {
          "base_uri": "https://localhost:8080/"
        },
        "id": "ypjKCnIt0K87",
        "outputId": "d7c66beb-43c0-4dee-d1b5-e1bd4a1dd0ba"
      },
      "execution_count": null,
      "outputs": [
        {
          "output_type": "stream",
          "name": "stdout",
          "text": [
            "Features shape: (164, 3), Target shape: (164,)\n"
          ]
        }
      ]
    },
    {
      "cell_type": "code",
      "source": [
        "import torch\n",
        "\n",
        "# ✅ Convert all tensor values to floats\n",
        "train_data[\"total_area\"] = train_data[\"total_area\"].apply(lambda x: x.item() if isinstance(x, torch.Tensor) else x)\n",
        "train_data[\"avg_size\"] = train_data[\"avg_size\"].apply(lambda x: x.item() if isinstance(x, torch.Tensor) else x)\n",
        "\n",
        "# ✅ Verify Data Types Again\n",
        "print(train_data.dtypes)\n"
      ],
      "metadata": {
        "colab": {
          "base_uri": "https://localhost:8080/"
        },
        "id": "PobpGude4Bc9",
        "outputId": "38f22b43-1e30-4dd3-81cd-0fa55868a976"
      },
      "execution_count": null,
      "outputs": [
        {
          "output_type": "stream",
          "name": "stdout",
          "text": [
            "image_id           object\n",
            "num_detections      int64\n",
            "total_area        float64\n",
            "avg_size          float64\n",
            "ID                 object\n",
            "PlantNumber         int64\n",
            "Side               object\n",
            "Start               int64\n",
            "End                 int64\n",
            "RootVolume        float64\n",
            "Genotype           object\n",
            "Stage              object\n",
            "dtype: object\n"
          ]
        }
      ]
    },
    {
      "cell_type": "code",
      "source": [
        "# Keep only numeric columns + image_id + RootVolume\n",
        "train_data_fixed = train_data[[\"image_id\", \"RootVolume\", \"total_area\", \"avg_size\"]].copy()\n",
        "\n",
        "# Check final dataset\n",
        "print(train_data_fixed.head())\n"
      ],
      "metadata": {
        "colab": {
          "base_uri": "https://localhost:8080/"
        },
        "id": "hphCbDNJ4aJW",
        "outputId": "fc5c6ad6-74db-4f43-96b7-4e3e1d57a336"
      },
      "execution_count": null,
      "outputs": [
        {
          "output_type": "stream",
          "name": "stdout",
          "text": [
            "     image_id  RootVolume   total_area    avg_size\n",
            "0  a6dzrkjqvl         0.9  1930.466309  643.488770\n",
            "1  a6dzrkjqvl         0.9  1522.300415  761.150208\n",
            "2  a6dzrkjqvl         0.9  1482.281128  741.140564\n",
            "3  a6dzrkjqvl         0.9     0.000000    0.000000\n",
            "4  a6dzrkjqvl         0.9     0.000000    0.000000\n"
          ]
        }
      ]
    },
    {
      "cell_type": "markdown",
      "source": [
        "# Train the Model"
      ],
      "metadata": {
        "id": "SYzEy8eKyLZH"
      }
    },
    {
      "cell_type": "code",
      "source": [
        "model = XGBRegressor(n_estimators=500, learning_rate=0.05, max_depth=6)\n"
      ],
      "metadata": {
        "id": "-QjiZBV9Copa"
      },
      "execution_count": null,
      "outputs": []
    },
    {
      "cell_type": "code",
      "source": [
        "print(\"Unique y_train values:\", set(y_train))\n"
      ],
      "metadata": {
        "colab": {
          "base_uri": "https://localhost:8080/",
          "height": 148
        },
        "id": "DhgqNKRJDBHK",
        "outputId": "e8065b15-62a2-4381-cc55-c5ccb093575f"
      },
      "execution_count": null,
      "outputs": [
        {
          "output_type": "error",
          "ename": "NameError",
          "evalue": "name 'y_train' is not defined",
          "traceback": [
            "\u001b[0;31m---------------------------------------------------------------------------\u001b[0m",
            "\u001b[0;31mNameError\u001b[0m                                 Traceback (most recent call last)",
            "\u001b[0;32m<ipython-input-5-ed82527e6853>\u001b[0m in \u001b[0;36m<cell line: 0>\u001b[0;34m()\u001b[0m\n\u001b[0;32m----> 1\u001b[0;31m \u001b[0mprint\u001b[0m\u001b[0;34m(\u001b[0m\u001b[0;34m\"Unique y_train values:\"\u001b[0m\u001b[0;34m,\u001b[0m \u001b[0mset\u001b[0m\u001b[0;34m(\u001b[0m\u001b[0my_train\u001b[0m\u001b[0;34m)\u001b[0m\u001b[0;34m)\u001b[0m\u001b[0;34m\u001b[0m\u001b[0;34m\u001b[0m\u001b[0m\n\u001b[0m",
            "\u001b[0;31mNameError\u001b[0m: name 'y_train' is not defined"
          ]
        }
      ]
    },
    {
      "cell_type": "code",
      "source": [
        "print(y_train.value_counts())  # See how many times each value appears\n",
        "print(y_train.describe())  # Check mean, min, and max\n"
      ],
      "metadata": {
        "colab": {
          "base_uri": "https://localhost:8080/"
        },
        "id": "huP7CswoDgRu",
        "outputId": "db3d070f-39a0-4954-9c0a-d32cf8b4960e"
      },
      "execution_count": null,
      "outputs": [
        {
          "output_type": "stream",
          "name": "stdout",
          "text": [
            "RootVolume\n",
            "0.9    11\n",
            "Name: count, dtype: int64\n",
            "count    1.100000e+01\n",
            "mean     9.000000e-01\n",
            "std      2.328823e-16\n",
            "min      9.000000e-01\n",
            "25%      9.000000e-01\n",
            "50%      9.000000e-01\n",
            "75%      9.000000e-01\n",
            "max      9.000000e-01\n",
            "Name: RootVolume, dtype: float64\n"
          ]
        }
      ]
    },
    {
      "cell_type": "code",
      "source": [
        "print(train_data_fixed[\"RootVolume\"].value_counts())\n"
      ],
      "metadata": {
        "colab": {
          "base_uri": "https://localhost:8080/"
        },
        "id": "jl_HP94LD3K_",
        "outputId": "da61f4ef-d361-43ac-b65d-67f27da0f5dc"
      },
      "execution_count": null,
      "outputs": [
        {
          "output_type": "stream",
          "name": "stdout",
          "text": [
            "RootVolume\n",
            "0.9    164\n",
            "Name: count, dtype: int64\n"
          ]
        }
      ]
    },
    {
      "cell_type": "code",
      "source": [
        "X_train = X_train[(X_train[\"total_area\"] > 0) & (X_train[\"avg_size\"] > 0)]\n",
        "y_train = y_train.loc[X_train.index]  # Keep matching y_train values\n"
      ],
      "metadata": {
        "id": "iNw58OVWBeYd"
      },
      "execution_count": null,
      "outputs": []
    },
    {
      "cell_type": "code",
      "source": [
        "X_train[\"total_area\"] = np.log1p(X_train[\"total_area\"])  # log(1 + x)\n",
        "X_train[\"avg_size\"] = np.log1p(X_train[\"avg_size\"])\n"
      ],
      "metadata": {
        "id": "BAFRmdJKBqLr"
      },
      "execution_count": null,
      "outputs": []
    },
    {
      "cell_type": "code",
      "source": [
        "from sklearn.preprocessing import StandardScaler\n",
        "\n",
        "scaler = StandardScaler()\n",
        "X_train[[\"total_area\", \"avg_size\"]] = scaler.fit_transform(X_train[[\"total_area\", \"avg_size\"]])\n",
        "X_val[[\"total_area\", \"avg_size\"]] = scaler.transform(X_val[[\"total_area\", \"avg_size\"]])\n"
      ],
      "metadata": {
        "id": "6Wch_C4UBvf7"
      },
      "execution_count": null,
      "outputs": []
    },
    {
      "cell_type": "code",
      "source": [
        "\n",
        "# Step 2: Initialize the Random Forest Regressor\n",
        "# Random Forest Hyperparameters (Tune based on your data)\n",
        "model = RandomForestRegressor(n_estimators=100, random_state=42, max_depth=10, min_samples_split=10)\n",
        "\n",
        "# Step 3: Fit the model to training data\n",
        "model.fit(X_train, y_train)\n",
        "\n",
        "# Step 4: Model Evaluation using Cross-Validation\n",
        "cv_scores = cross_val_score(model, X_train, y_train, cv=3, scoring='neg_mean_squared_error')\n",
        "\n",
        "# Print Cross-Validation RMSE\n",
        "print(\"Average RMSE from cross-validation: \", np.mean(np.sqrt(-cv_scores)))\n",
        "\n",
        "# Step 5: Evaluate Model Performance\n",
        "# Make predictions\n",
        "y_pred = model.predict(X_test)\n",
        "\n",
        "# Calculate RMSE for test data\n",
        "rmse = np.sqrt(mean_squared_error(y_test, y_pred))\n",
        "print(\"Test RMSE: \", rmse)\n",
        "\n",
        "# Step 6: Visualize Predictions vs True Values\n",
        "plt.scatter(y_test, y_pred)\n",
        "plt.xlabel('True Values')\n",
        "plt.ylabel('Predictions')\n",
        "plt.title('True vs Predicted Volume')\n",
        "plt.show()\n"
      ],
      "metadata": {
        "colab": {
          "base_uri": "https://localhost:8080/",
          "height": 240
        },
        "id": "oI_Cqlg5J2Ce",
        "outputId": "234f06eb-c9dc-4e6e-969d-cd6e962c8bfb"
      },
      "execution_count": null,
      "outputs": [
        {
          "output_type": "stream",
          "name": "stdout",
          "text": [
            "Average RMSE from cross-validation:  7.771561172376096e-16\n"
          ]
        },
        {
          "output_type": "error",
          "ename": "NameError",
          "evalue": "name 'X_test' is not defined",
          "traceback": [
            "\u001b[0;31m---------------------------------------------------------------------------\u001b[0m",
            "\u001b[0;31mNameError\u001b[0m                                 Traceback (most recent call last)",
            "\u001b[0;32m<ipython-input-97-4143207fcbcf>\u001b[0m in \u001b[0;36m<cell line: 16>\u001b[0;34m()\u001b[0m\n\u001b[1;32m     14\u001b[0m \u001b[0;31m# Step 5: Evaluate Model Performance\u001b[0m\u001b[0;34m\u001b[0m\u001b[0;34m\u001b[0m\u001b[0m\n\u001b[1;32m     15\u001b[0m \u001b[0;31m# Make predictions\u001b[0m\u001b[0;34m\u001b[0m\u001b[0;34m\u001b[0m\u001b[0m\n\u001b[0;32m---> 16\u001b[0;31m \u001b[0my_pred\u001b[0m \u001b[0;34m=\u001b[0m \u001b[0mmodel\u001b[0m\u001b[0;34m.\u001b[0m\u001b[0mpredict\u001b[0m\u001b[0;34m(\u001b[0m\u001b[0mX_test\u001b[0m\u001b[0;34m)\u001b[0m\u001b[0;34m\u001b[0m\u001b[0;34m\u001b[0m\u001b[0m\n\u001b[0m\u001b[1;32m     17\u001b[0m \u001b[0;34m\u001b[0m\u001b[0m\n\u001b[1;32m     18\u001b[0m \u001b[0;31m# Calculate RMSE for test data\u001b[0m\u001b[0;34m\u001b[0m\u001b[0;34m\u001b[0m\u001b[0m\n",
            "\u001b[0;31mNameError\u001b[0m: name 'X_test' is not defined"
          ]
        }
      ]
    },
    {
      "cell_type": "code",
      "source": [
        "# Predict and evaluate RMSE\n",
        "y_pred = model.predict(X_val)\n",
        "rmse = mean_squared_error(y_val, y_pred) ** 0.5  # Manually take square root\n",
        "\n",
        "print(f\"✅ RMSE: {rmse:.4f}\")\n"
      ],
      "metadata": {
        "colab": {
          "base_uri": "https://localhost:8080/",
          "height": 375
        },
        "id": "xq1XJGu0_T2z",
        "outputId": "84ef0991-af2b-4c39-f0d9-85c82208920a"
      },
      "execution_count": null,
      "outputs": [
        {
          "output_type": "error",
          "ename": "NotFittedError",
          "evalue": "need to call fit or load_model beforehand",
          "traceback": [
            "\u001b[0;31m---------------------------------------------------------------------------\u001b[0m",
            "\u001b[0;31mNotFittedError\u001b[0m                            Traceback (most recent call last)",
            "\u001b[0;32m<ipython-input-45-0aabd7398063>\u001b[0m in \u001b[0;36m<cell line: 2>\u001b[0;34m()\u001b[0m\n\u001b[1;32m      1\u001b[0m \u001b[0;31m# Predict and evaluate RMSE\u001b[0m\u001b[0;34m\u001b[0m\u001b[0;34m\u001b[0m\u001b[0m\n\u001b[0;32m----> 2\u001b[0;31m \u001b[0my_pred\u001b[0m \u001b[0;34m=\u001b[0m \u001b[0mmodel\u001b[0m\u001b[0;34m.\u001b[0m\u001b[0mpredict\u001b[0m\u001b[0;34m(\u001b[0m\u001b[0mX_val\u001b[0m\u001b[0;34m)\u001b[0m\u001b[0;34m\u001b[0m\u001b[0;34m\u001b[0m\u001b[0m\n\u001b[0m\u001b[1;32m      3\u001b[0m \u001b[0mrmse\u001b[0m \u001b[0;34m=\u001b[0m \u001b[0mmean_squared_error\u001b[0m\u001b[0;34m(\u001b[0m\u001b[0my_val\u001b[0m\u001b[0;34m,\u001b[0m \u001b[0my_pred\u001b[0m\u001b[0;34m)\u001b[0m \u001b[0;34m**\u001b[0m \u001b[0;36m0.5\u001b[0m  \u001b[0;31m# Manually take square root\u001b[0m\u001b[0;34m\u001b[0m\u001b[0;34m\u001b[0m\u001b[0m\n\u001b[1;32m      4\u001b[0m \u001b[0;34m\u001b[0m\u001b[0m\n\u001b[1;32m      5\u001b[0m \u001b[0mprint\u001b[0m\u001b[0;34m(\u001b[0m\u001b[0;34mf\"✅ RMSE: {rmse:.4f}\"\u001b[0m\u001b[0;34m)\u001b[0m\u001b[0;34m\u001b[0m\u001b[0;34m\u001b[0m\u001b[0m\n",
            "\u001b[0;32m/usr/local/lib/python3.10/dist-packages/xgboost/sklearn.py\u001b[0m in \u001b[0;36mpredict\u001b[0;34m(self, X, output_margin, validate_features, base_margin, iteration_range)\u001b[0m\n\u001b[1;32m   1184\u001b[0m             \u001b[0;32mif\u001b[0m \u001b[0mself\u001b[0m\u001b[0;34m.\u001b[0m\u001b[0m_can_use_inplace_predict\u001b[0m\u001b[0;34m(\u001b[0m\u001b[0;34m)\u001b[0m\u001b[0;34m:\u001b[0m\u001b[0;34m\u001b[0m\u001b[0;34m\u001b[0m\u001b[0m\n\u001b[1;32m   1185\u001b[0m                 \u001b[0;32mtry\u001b[0m\u001b[0;34m:\u001b[0m\u001b[0;34m\u001b[0m\u001b[0;34m\u001b[0m\u001b[0m\n\u001b[0;32m-> 1186\u001b[0;31m                     predts = self.get_booster().inplace_predict(\n\u001b[0m\u001b[1;32m   1187\u001b[0m                         \u001b[0mdata\u001b[0m\u001b[0;34m=\u001b[0m\u001b[0mX\u001b[0m\u001b[0;34m,\u001b[0m\u001b[0;34m\u001b[0m\u001b[0;34m\u001b[0m\u001b[0m\n\u001b[1;32m   1188\u001b[0m                         \u001b[0miteration_range\u001b[0m\u001b[0;34m=\u001b[0m\u001b[0miteration_range\u001b[0m\u001b[0;34m,\u001b[0m\u001b[0;34m\u001b[0m\u001b[0;34m\u001b[0m\u001b[0m\n",
            "\u001b[0;32m/usr/local/lib/python3.10/dist-packages/xgboost/sklearn.py\u001b[0m in \u001b[0;36mget_booster\u001b[0;34m(self)\u001b[0m\n\u001b[1;32m    803\u001b[0m             \u001b[0;32mfrom\u001b[0m \u001b[0msklearn\u001b[0m\u001b[0;34m.\u001b[0m\u001b[0mexceptions\u001b[0m \u001b[0;32mimport\u001b[0m \u001b[0mNotFittedError\u001b[0m\u001b[0;34m\u001b[0m\u001b[0;34m\u001b[0m\u001b[0m\n\u001b[1;32m    804\u001b[0m \u001b[0;34m\u001b[0m\u001b[0m\n\u001b[0;32m--> 805\u001b[0;31m             \u001b[0;32mraise\u001b[0m \u001b[0mNotFittedError\u001b[0m\u001b[0;34m(\u001b[0m\u001b[0;34m\"need to call fit or load_model beforehand\"\u001b[0m\u001b[0;34m)\u001b[0m\u001b[0;34m\u001b[0m\u001b[0;34m\u001b[0m\u001b[0m\n\u001b[0m\u001b[1;32m    806\u001b[0m         \u001b[0;32mreturn\u001b[0m \u001b[0mself\u001b[0m\u001b[0;34m.\u001b[0m\u001b[0m_Booster\u001b[0m\u001b[0;34m\u001b[0m\u001b[0;34m\u001b[0m\u001b[0m\n\u001b[1;32m    807\u001b[0m \u001b[0;34m\u001b[0m\u001b[0m\n",
            "\u001b[0;31mNotFittedError\u001b[0m: need to call fit or load_model beforehand"
          ]
        }
      ]
    },
    {
      "cell_type": "code",
      "source": [
        "print(\"Sample y_val:\", y_val[:10].tolist())\n",
        "print(\"Sample y_pred:\", y_pred[:10].tolist())\n"
      ],
      "metadata": {
        "colab": {
          "base_uri": "https://localhost:8080/"
        },
        "id": "qSg0gdSpAq--",
        "outputId": "8a810852-0314-4a39-da42-0a12af96942f"
      },
      "execution_count": null,
      "outputs": [
        {
          "output_type": "stream",
          "name": "stdout",
          "text": [
            "Sample y_val: [0.9, 0.9, 0.9, 0.9, 0.9, 0.9, 0.9, 0.9, 0.9, 0.9]\n",
            "Sample y_pred: [0.8999999761581421, 0.8999999761581421, 0.8999999761581421, 0.8999999761581421, 0.8999999761581421, 0.8999999761581421, 0.8999999761581421, 0.8999999761581421, 0.8999999761581421, 0.8999999761581421]\n"
          ]
        }
      ]
    },
    {
      "cell_type": "code",
      "source": [
        "print(X_train.describe())\n"
      ],
      "metadata": {
        "colab": {
          "base_uri": "https://localhost:8080/"
        },
        "id": "nZFsas9ZBB_e",
        "outputId": "1001b8df-b67f-4c9d-805b-c869cbcb27ae"
      },
      "execution_count": null,
      "outputs": [
        {
          "output_type": "stream",
          "name": "stdout",
          "text": [
            "       total_area      avg_size\n",
            "count   15.000000  1.500000e+01\n",
            "mean     0.000000  1.480297e-17\n",
            "std      1.035098  1.035098e+00\n",
            "min     -2.155628 -2.310451e+00\n",
            "25%     -0.014388  2.740422e-01\n",
            "50%      0.475530  3.913931e-01\n",
            "75%      0.614823  4.647092e-01\n",
            "max      1.290258  9.796889e-01\n"
          ]
        }
      ]
    },
    {
      "cell_type": "markdown",
      "source": [
        "# Tracking using Logs"
      ],
      "metadata": {
        "id": "ohpD6MF5yp6m"
      }
    },
    {
      "cell_type": "code",
      "source": [
        "import logging\n",
        "\n",
        "# Set up logging\n",
        "logging.basicConfig(filename=\"model_training.log\", level=logging.INFO, format=\"%(asctime)s - %(levelname)s - %(message)s\")\n",
        "\n",
        "# Example logging during training\n",
        "logging.info(\"Starting model training...\")\n",
        "\n",
        "for epoch in range(10):  # Example loop\n",
        "    loss = 0.05 * epoch  # Simulated loss\n",
        "    logging.info(f\"Epoch {epoch+1}: Loss = {loss:.4f}\")\n",
        "\n",
        "logging.info(\"Training completed!\")\n"
      ],
      "metadata": {
        "id": "zqwm5pzLrNWU"
      },
      "execution_count": null,
      "outputs": []
    }
  ]
}